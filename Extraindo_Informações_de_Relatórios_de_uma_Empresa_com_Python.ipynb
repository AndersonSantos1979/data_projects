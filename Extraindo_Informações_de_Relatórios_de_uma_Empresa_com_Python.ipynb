{
  "nbformat": 4,
  "nbformat_minor": 0,
  "metadata": {
    "colab": {
      "name": "Extraindo Informações de Relatórios de uma Empresa com Python.ipynb",
      "provenance": [],
      "collapsed_sections": [],
      "authorship_tag": "ABX9TyPWgovj+zlfalLK9mfeVARD",
      "include_colab_link": true
    },
    "kernelspec": {
      "name": "python3",
      "display_name": "Python 3"
    }
  },
  "cells": [
    {
      "cell_type": "markdown",
      "metadata": {
        "id": "view-in-github",
        "colab_type": "text"
      },
      "source": [
        "<a href=\"https://colab.research.google.com/github/andremarinho17/data_projects/blob/master/Extraindo_Informa%C3%A7%C3%B5es_de_Relat%C3%B3rios_de_uma_Empresa_com_Python.ipynb\" target=\"_parent\"><img src=\"https://colab.research.google.com/assets/colab-badge.svg\" alt=\"Open In Colab\"/></a>"
      ]
    },
    {
      "cell_type": "markdown",
      "metadata": {
        "id": "Dc4avA8C6XXa"
      },
      "source": [
        "## Extraindo Informações de Relatórios de uma Empresa com Python\n"
      ]
    },
    {
      "cell_type": "markdown",
      "metadata": {
        "id": "n_Lv3aki6mmd"
      },
      "source": [
        "Muitas empresas utilizam relatórios em PDF com dados importantes acerca de seu negócio. Porém, um dos maiores problemas que estas enfrentam habita no momento em que elas precisam extrair informações, pois geralmente são muitas e exige um trabalho manual com planilhas ou calculadoras, o que pode tomar horas. O Python chega para resolver este problema.\n",
        "\n",
        "<p align=\"center\"><img width=\"70%\" src=\"https://raw.githubusercontent.com/andremarinho17/imagens/main/relatorios.jpeg\"></p>\n",
        "\n",
        "Neste projeto, irei mostrar um projeto sobre como extrair informações de relatórios em pdf de uma empresa utilizando a linguagem Python e uma de suas bibliotecas chamada PDF Plumber, que é feita para obter informações detalhadas em relatórios pdf. Ela também permite a extração e manipulação de diversos arquivos ao mesmo tempo.\n"
      ]
    },
    {
      "cell_type": "markdown",
      "metadata": {
        "id": "cCK9bv356u21"
      },
      "source": [
        "Antes de tudo, é preciso utilizar o gerenciador de pacotes pip com o comando install para instalar a biblioteca PDF Pumbler."
      ]
    },
    {
      "cell_type": "code",
      "metadata": {
        "colab": {
          "base_uri": "https://localhost:8080/"
        },
        "id": "cwavb7kPMq7A",
        "outputId": "15d3416e-7f32-4e48-cd8f-832e9a09b987"
      },
      "source": [
        "!pip install pdfplumber"
      ],
      "execution_count": null,
      "outputs": [
        {
          "output_type": "stream",
          "text": [
            "Collecting pdfplumber\n",
            "\u001b[?25l  Downloading https://files.pythonhosted.org/packages/36/90/0e3da2c9a963af03e1cd66d568eacb599c50b9da7b87f7ddeff9f5e73312/pdfplumber-0.5.24.tar.gz (42kB)\n",
            "\u001b[K     |████████████████████████████████| 51kB 5.5MB/s \n",
            "\u001b[?25hCollecting pdfminer.six==20200517\n",
            "\u001b[?25l  Downloading https://files.pythonhosted.org/packages/b0/c0/ef1c8758bbd86edb10b5443700aac97d0ba27a9ca2e7696db8cd1fdbd5a8/pdfminer.six-20200517-py3-none-any.whl (5.6MB)\n",
            "\u001b[K     |████████████████████████████████| 5.6MB 8.8MB/s \n",
            "\u001b[?25hRequirement already satisfied: Pillow>=7.0.0 in /usr/local/lib/python3.6/dist-packages (from pdfplumber) (7.0.0)\n",
            "Collecting Wand\n",
            "\u001b[?25l  Downloading https://files.pythonhosted.org/packages/98/08/096b76e9211ca5ef338791100b76375555cb4082a53496b1c1d5897ee13c/Wand-0.6.5-py2.py3-none-any.whl (138kB)\n",
            "\u001b[K     |████████████████████████████████| 143kB 44.6MB/s \n",
            "\u001b[?25hCollecting pycryptodome\n",
            "\u001b[?25l  Downloading https://files.pythonhosted.org/packages/2b/6f/7e38d7c97fbbc3987539c804282c33f56b6b07381bf2390deead696440c5/pycryptodome-3.9.9-cp36-cp36m-manylinux1_x86_64.whl (13.7MB)\n",
            "\u001b[K     |████████████████████████████████| 13.7MB 319kB/s \n",
            "\u001b[?25hRequirement already satisfied: chardet; python_version > \"3.0\" in /usr/local/lib/python3.6/dist-packages (from pdfminer.six==20200517->pdfplumber) (3.0.4)\n",
            "Requirement already satisfied: sortedcontainers in /usr/local/lib/python3.6/dist-packages (from pdfminer.six==20200517->pdfplumber) (2.3.0)\n",
            "Building wheels for collected packages: pdfplumber\n",
            "  Building wheel for pdfplumber (setup.py) ... \u001b[?25l\u001b[?25hdone\n",
            "  Created wheel for pdfplumber: filename=pdfplumber-0.5.24-cp36-none-any.whl size=31125 sha256=73d868d2d405ce85b5a175795cf3802991fae6816f60d636624aca52529cc4c0\n",
            "  Stored in directory: /root/.cache/pip/wheels/42/e7/9d/783e40e447a240ace74b520158a133175853f3c3b2999f4520\n",
            "Successfully built pdfplumber\n",
            "Installing collected packages: pycryptodome, pdfminer.six, Wand, pdfplumber\n",
            "Successfully installed Wand-0.6.5 pdfminer.six-20200517 pdfplumber-0.5.24 pycryptodome-3.9.9\n"
          ],
          "name": "stdout"
        }
      ]
    },
    {
      "cell_type": "markdown",
      "metadata": {
        "id": "kkY7MYvZ7MS2"
      },
      "source": [
        "É aconselhável a utilização algum serviço em nuvem, de preferência o Google Drive, para armazenar os relatórios da empresa e facilitar a extração dos dados e o reaproveitamento do notebook. O Google Colab faz uma integração muito boa com o Google Drive, basta importa-la. É preciso também importar o pdfplumber, o OS para caminhar pelos diretórios do Google Drive e montar o Drive."
      ]
    },
    {
      "cell_type": "code",
      "metadata": {
        "colab": {
          "base_uri": "https://localhost:8080/"
        },
        "id": "E8bkhLOPMT_t",
        "outputId": "3dbc38ca-a283-43bf-b13a-3b59af60b908"
      },
      "source": [
        "#Importando as bibliotecas necessárias \n",
        "\n",
        "from google.colab import drive\n",
        "import pdfplumber\n",
        "import os\n",
        "\n",
        "drive.mount('/content/gdrive')"
      ],
      "execution_count": null,
      "outputs": [
        {
          "output_type": "stream",
          "text": [
            "Mounted at /content/gdrive\n"
          ],
          "name": "stdout"
        }
      ]
    },
    {
      "cell_type": "markdown",
      "metadata": {
        "id": "ALdwOlar7Spd"
      },
      "source": [
        "Agora, é preciso navegar até a pasta onde estão localizados os arquivos que se deseja usar. Para isso, basta usar o método Change Directory através do comando chdir da biblioteca OS."
      ]
    },
    {
      "cell_type": "code",
      "metadata": {
        "id": "-Yz62nOzMnQC"
      },
      "source": [
        "# navegando até a pasta com os relatórios\n",
        "os.chdir('/content/gdrive/MyDrive/PDZ/relatorios')"
      ],
      "execution_count": null,
      "outputs": []
    },
    {
      "cell_type": "markdown",
      "metadata": {
        "id": "LV5tL2J77Up1"
      },
      "source": [
        "Além disso, a OS também tem o comando getcwd para verificar o local em que se está."
      ]
    },
    {
      "cell_type": "code",
      "metadata": {
        "colab": {
          "base_uri": "https://localhost:8080/",
          "height": 35
        },
        "id": "bHYDtdvuNTPG",
        "outputId": "35f13be6-bdeb-4d7f-c6c2-9802352ad337"
      },
      "source": [
        "# checando o diretorio\n",
        "os.getcwd()"
      ],
      "execution_count": null,
      "outputs": [
        {
          "output_type": "execute_result",
          "data": {
            "application/vnd.google.colaboratory.intrinsic+json": {
              "type": "string"
            },
            "text/plain": [
              "'/content/gdrive/MyDrive/PDZ/relatorios'"
            ]
          },
          "metadata": {
            "tags": []
          },
          "execution_count": 4
        }
      ]
    },
    {
      "cell_type": "markdown",
      "metadata": {
        "id": "3aNPGqxV71Xy"
      },
      "source": [
        "No diretório correto, é preciso verificar se os arquivos que serão usados estão nele. Para isso, basta usar o comando listdir do OS para fazer a listagem.\n"
      ]
    },
    {
      "cell_type": "code",
      "metadata": {
        "colab": {
          "base_uri": "https://localhost:8080/"
        },
        "id": "PTuUI2arNVI2",
        "outputId": "61ab6fcb-90e0-4b44-e2a2-6a81253a8925"
      },
      "source": [
        "# Listando os arquivos do diretório\n",
        "arquivos_semana = os.listdir()\n",
        "print(arquivos_semana)"
      ],
      "execution_count": null,
      "outputs": [
        {
          "output_type": "stream",
          "text": [
            "['20200801.pdf', '20200802.pdf', '20200803.pdf', '20200804.pdf', '20200805.pdf']\n"
          ],
          "name": "stdout"
        }
      ]
    },
    {
      "cell_type": "markdown",
      "metadata": {
        "id": "JCQixdNC74xd"
      },
      "source": [
        "### **Manipulando os Relatórios**"
      ]
    },
    {
      "cell_type": "markdown",
      "metadata": {
        "id": "tVr93zvo79we"
      },
      "source": [
        "Agora, é hora de começar a manipular os arquivos e extrair informações. Vou abrir o arquivo com o pdfplumber a armazená-lo em uma variável para facilitar a manipulação.\n"
      ]
    },
    {
      "cell_type": "code",
      "metadata": {
        "id": "6bGyqOSANfgI"
      },
      "source": [
        "# Abrindo o relatório\n",
        "relatorio = pdfplumber.open('/content/gdrive/MyDrive/PDZ/relatorios/20200801.pdf')"
      ],
      "execution_count": null,
      "outputs": []
    },
    {
      "cell_type": "markdown",
      "metadata": {
        "id": "K_HsT9Ee8AHf"
      },
      "source": [
        "É importante ressaltar que relatórios podem possuir mais de uma página e mesmo que possua apenas uma, sempre é preciso definir a que será trabalhada. Para selecionar a página correta, basta executar o seguinte comando:"
      ]
    },
    {
      "cell_type": "code",
      "metadata": {
        "id": "RAc9uth3NwiG"
      },
      "source": [
        "pagina = relatorio.pages[0]"
      ],
      "execution_count": null,
      "outputs": []
    },
    {
      "cell_type": "markdown",
      "metadata": {
        "id": "Q0M7aRX18Skc"
      },
      "source": [
        "Neste caso, selecionei a primeira página do relatório, onde estão as informações a serem extraídas. Para extraí-las, basta usar a função `extract_text()` do pdfplumber."
      ]
    },
    {
      "cell_type": "code",
      "metadata": {
        "colab": {
          "base_uri": "https://localhost:8080/"
        },
        "id": "nlycgHfvN3_t",
        "outputId": "a187f927-a61b-49f3-9ea9-d201dbb85d2b"
      },
      "source": [
        "# Extraindo o texto da primeira página do relatório\n",
        "texto = pagina.extract_text()\n",
        "print(texto)"
      ],
      "execution_count": null,
      "outputs": [
        {
          "output_type": "stream",
          "text": [
            "SIGMOIDAL\t\n",
            "\t \t\n",
            "Relatório\tDiário\t\n",
            "Data:\t01/08/2020\t\n",
            "\t\n",
            "\t\n",
            "RECEITA:\tR$\t1297.00\t\n",
            "DADOS\tATUALIZADOS\tPOR\tCARLOS\tMELO\t\n",
            "\t\n",
            "\t\n",
            "Visitantes:\t1367\t\n",
            "A\tquantidade\tde\tvisitantes\tdiz\trespeito\ta\tvisitantes\túnicos\tvisitando\tqualquer\t\n",
            "página\tdo\tdomínio\tou\tsubdomínio\tsigmoidal.ai.\tCompreende,\tentão,\tcursos,\t\n",
            "blogs\te\tlanding\tpages.\t\n",
            "\t\n",
            "Inscritos:\t33\t\n",
            "É\tconsiderado\taqui\to\tnúmero\tde\tleads\tgerados\tpor\tmeio\tde\tcadastro\t\n",
            "voluntário\tnos\tformulários\tdo\tcabeçalho,\trodapé\tou\tmateriais\tricos\t(como\t\n",
            "eBook,\tinfográficos,\tentre\toutros).\t\n",
            "\t\n",
            "Assinantes:\t6\t\n",
            "Clientes\tassinantes\tda\tEscola\tde\tData\tScience,\tconsiderando-se\to\tplano\t\n",
            "renovável\tde\tassinatura\tmensal.\t\n",
            "\t\n"
          ],
          "name": "stdout"
        }
      ]
    },
    {
      "cell_type": "markdown",
      "metadata": {
        "id": "8Wql1qtp8e21"
      },
      "source": [
        "O grande problema é que o Python não enxerga os dados da forma que estão acima e sim, como uma grande string, incluindo símbolos como \\t (espaço entre palavras) e \\n (quebra de linha), como na imagem a seguir:"
      ]
    },
    {
      "cell_type": "code",
      "metadata": {
        "colab": {
          "base_uri": "https://localhost:8080/",
          "height": 103
        },
        "id": "MOxh4Y83N-if",
        "outputId": "9c67ad22-80a8-4dce-dbe8-f56269cb550e"
      },
      "source": [
        "texto"
      ],
      "execution_count": null,
      "outputs": [
        {
          "output_type": "execute_result",
          "data": {
            "application/vnd.google.colaboratory.intrinsic+json": {
              "type": "string"
            },
            "text/plain": [
              "'SIGMOIDAL\\t\\n\\t \\t\\nRelatório\\tDiário\\t\\nData:\\t01/08/2020\\t\\n\\t\\n\\t\\nRECEITA:\\tR$\\t1297.00\\t\\nDADOS\\tATUALIZADOS\\tPOR\\tCARLOS\\tMELO\\t\\n\\t\\n\\t\\nVisitantes:\\t1367\\t\\nA\\tquantidade\\tde\\tvisitantes\\tdiz\\trespeito\\ta\\tvisitantes\\túnicos\\tvisitando\\tqualquer\\t\\npágina\\tdo\\tdomínio\\tou\\tsubdomínio\\tsigmoidal.ai.\\tCompreende,\\tentão,\\tcursos,\\t\\nblogs\\te\\tlanding\\tpages.\\t\\n\\t\\nInscritos:\\t33\\t\\nÉ\\tconsiderado\\taqui\\to\\tnúmero\\tde\\tleads\\tgerados\\tpor\\tmeio\\tde\\tcadastro\\t\\nvoluntário\\tnos\\tformulários\\tdo\\tcabeçalho,\\trodapé\\tou\\tmateriais\\tricos\\t(como\\t\\neBook,\\tinfográficos,\\tentre\\toutros).\\t\\n\\t\\nAssinantes:\\t6\\t\\nClientes\\tassinantes\\tda\\tEscola\\tde\\tData\\tScience,\\tconsiderando-se\\to\\tplano\\t\\nrenovável\\tde\\tassinatura\\tmensal.\\t\\n\\t'"
            ]
          },
          "metadata": {
            "tags": []
          },
          "execution_count": 11
        }
      ]
    },
    {
      "cell_type": "markdown",
      "metadata": {
        "id": "DUqISlhy8tFl"
      },
      "source": [
        "Diante dessa situação, é preciso fazer uma limpeza no texto, eliminando todos os caracteres símbolos. Para isso, basta substituir \\t por vazio utilizando a função replace e separar o texto em linhas utilizando a função split."
      ]
    },
    {
      "cell_type": "code",
      "metadata": {
        "id": "aBOu-bzfOQW4"
      },
      "source": [
        "# quebrando as linhas do texto\n",
        "texto.split('\\n')"
      ],
      "execution_count": null,
      "outputs": []
    },
    {
      "cell_type": "markdown",
      "metadata": {
        "id": "nM2ku8Ks9QkN"
      },
      "source": [
        "Nos arquivos em questão, a variável Vendas sempre aparece na sétima linha e é com ela que é feito o calculo do valor total de vendas da empresa."
      ]
    },
    {
      "cell_type": "code",
      "metadata": {
        "colab": {
          "base_uri": "https://localhost:8080/",
          "height": 35
        },
        "id": "sN_SHpBoOlle",
        "outputId": "84e6b548-ccba-4f67-c2e8-48202f7457ec"
      },
      "source": [
        "# selecionando a linha 7, que é onde está o valor da receita\n",
        "texto.split('\\n')[6]"
      ],
      "execution_count": null,
      "outputs": [
        {
          "output_type": "execute_result",
          "data": {
            "application/vnd.google.colaboratory.intrinsic+json": {
              "type": "string"
            },
            "text/plain": [
              "'RECEITA:\\tR$\\t1297.00\\t'"
            ]
          },
          "metadata": {
            "tags": []
          },
          "execution_count": 13
        }
      ]
    },
    {
      "cell_type": "code",
      "metadata": {
        "colab": {
          "base_uri": "https://localhost:8080/",
          "height": 35
        },
        "id": "aqjR_fh1Owis",
        "outputId": "1a28f46f-5f85-41cd-8424-adfc5f53ef27"
      },
      "source": [
        "# limpando a linha 7\n",
        "texto.split('\\n')[6].replace('\\t', \"\")"
      ],
      "execution_count": null,
      "outputs": [
        {
          "output_type": "execute_result",
          "data": {
            "application/vnd.google.colaboratory.intrinsic+json": {
              "type": "string"
            },
            "text/plain": [
              "'RECEITA:R$1297.00'"
            ]
          },
          "metadata": {
            "tags": []
          },
          "execution_count": 14
        }
      ]
    },
    {
      "cell_type": "code",
      "metadata": {
        "colab": {
          "base_uri": "https://localhost:8080/"
        },
        "id": "o2bn-_6QPAmd",
        "outputId": "b46a76e8-ae83-4e33-d924-3669b3c3e125"
      },
      "source": [
        "texto.split('\\n')[6].replace('\\t', \"\").split(\"R$\")"
      ],
      "execution_count": null,
      "outputs": [
        {
          "output_type": "execute_result",
          "data": {
            "text/plain": [
              "['RECEITA:', '1297.00']"
            ]
          },
          "metadata": {
            "tags": []
          },
          "execution_count": 15
        }
      ]
    },
    {
      "cell_type": "code",
      "metadata": {
        "colab": {
          "base_uri": "https://localhost:8080/",
          "height": 35
        },
        "id": "JvW6YAI-PL8w",
        "outputId": "f6fd1660-084b-4b38-b9c8-3b160c9f01b1"
      },
      "source": [
        "texto.split('\\n')[6].replace('\\t', \"\").split(\"R$\")[1]"
      ],
      "execution_count": null,
      "outputs": [
        {
          "output_type": "execute_result",
          "data": {
            "application/vnd.google.colaboratory.intrinsic+json": {
              "type": "string"
            },
            "text/plain": [
              "'1297.00'"
            ]
          },
          "metadata": {
            "tags": []
          },
          "execution_count": 16
        }
      ]
    },
    {
      "cell_type": "markdown",
      "metadata": {
        "id": "2DcOrB3M9dMO"
      },
      "source": [
        "Formatado o texto, agora é necessário automatizar a soma das receitas de todos os relatórios, retornando a receita total dos últimos cinco dias. Para isso, basta criar uma função que itere sobre cada um dos relatórios que estão no diretório e some o valor de receita contido em cada um deles."
      ]
    },
    {
      "cell_type": "code",
      "metadata": {
        "colab": {
          "base_uri": "https://localhost:8080/"
        },
        "id": "OUFr8pi8P5bP",
        "outputId": "8562ae74-f8f1-4a11-bc5f-3af9735eeef4"
      },
      "source": [
        "# conferindo a variável que contém da semana\n",
        "arquivos_semana"
      ],
      "execution_count": null,
      "outputs": [
        {
          "output_type": "execute_result",
          "data": {
            "text/plain": [
              "['20200801.pdf',\n",
              " '20200802.pdf',\n",
              " '20200803.pdf',\n",
              " '20200804.pdf',\n",
              " '20200805.pdf']"
            ]
          },
          "metadata": {
            "tags": []
          },
          "execution_count": 19
        }
      ]
    },
    {
      "cell_type": "markdown",
      "metadata": {
        "id": "g5Wa2vrg92zk"
      },
      "source": [
        "Total de cada relatório:"
      ]
    },
    {
      "cell_type": "code",
      "metadata": {
        "colab": {
          "base_uri": "https://localhost:8080/"
        },
        "id": "2yzahsw3Qtkh",
        "outputId": "0ab41a55-0da2-4280-a295-a2282a1c9d8d"
      },
      "source": [
        "# Contador\n",
        "soma = 0\n",
        "\n",
        "# Função\n",
        "for arquivo  in arquivos_semana:\n",
        "  relatorio = pdfplumber.open(arquivo)\n",
        "  pagina = relatorio.pages[0]\n",
        "  texto = pagina.extract_text()\n",
        "  valor = texto.split('\\n')[6].replace('\\t', \"\").split(\"R$\")[1]\n",
        "  valor = float(valor)\n",
        "  soma = soma + valor\n",
        "  print(arquivo, '--->',valor)\n",
        "  "
      ],
      "execution_count": null,
      "outputs": [
        {
          "output_type": "stream",
          "text": [
            "20200801.pdf ---> 1297.0\n",
            "20200802.pdf ---> 537.0\n",
            "20200803.pdf ---> 554.0\n",
            "20200804.pdf ---> 2554.0\n",
            "20200805.pdf ---> 154.0\n"
          ],
          "name": "stdout"
        }
      ]
    },
    {
      "cell_type": "markdown",
      "metadata": {
        "id": "WUYetxOI94fk"
      },
      "source": [
        "Total Geral dos últimos 5 dias:"
      ]
    },
    {
      "cell_type": "code",
      "metadata": {
        "colab": {
          "base_uri": "https://localhost:8080/"
        },
        "id": "jTZJlnQiR4OB",
        "outputId": "93a24a9d-a051-47ad-ae6a-72e88118a94b"
      },
      "source": [
        "print('Receita dos Últimos 5 dias: R$', soma)"
      ],
      "execution_count": null,
      "outputs": [
        {
          "output_type": "stream",
          "text": [
            "Receita dos Últimos 5 dias: R$ 5096.0\n"
          ],
          "name": "stdout"
        }
      ]
    },
    {
      "cell_type": "markdown",
      "metadata": {
        "id": "idfOfOVm99Ys"
      },
      "source": [
        "###**Conclusões**"
      ]
    },
    {
      "cell_type": "markdown",
      "metadata": {
        "id": "Ps3JtjeN-DqL"
      },
      "source": [
        "Portanto, todo aquele trabalho manual com planilhas e calculadoras para extrair informações de PDFs pode ser dispensado através do uso da linguagem Python, que faz todo este trabalho de uma forma simples e otimizada. "
      ]
    }
  ]
}