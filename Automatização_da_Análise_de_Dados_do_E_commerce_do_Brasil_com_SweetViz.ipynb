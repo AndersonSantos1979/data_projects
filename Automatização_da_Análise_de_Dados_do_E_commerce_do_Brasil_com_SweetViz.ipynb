{
  "nbformat": 4,
  "nbformat_minor": 0,
  "metadata": {
    "colab": {
      "name": "Automatização da Análise de Dados do E-commerce do Brasil com SweetViz",
      "provenance": [],
      "authorship_tag": "ABX9TyN8FeMUkP5mOtP+FJeBcrAb",
      "include_colab_link": true
    },
    "kernelspec": {
      "name": "python3",
      "display_name": "Python 3"
    },
    "widgets": {
      "application/vnd.jupyter.widget-state+json": {
        "61e13ebf6ca84592b877a3ca952bca3f": {
          "model_module": "@jupyter-widgets/controls",
          "model_name": "HBoxModel",
          "state": {
            "_view_name": "HBoxView",
            "_dom_classes": [],
            "_model_name": "HBoxModel",
            "_view_module": "@jupyter-widgets/controls",
            "_model_module_version": "1.5.0",
            "_view_count": null,
            "_view_module_version": "1.5.0",
            "box_style": "",
            "layout": "IPY_MODEL_1629977a76a94ec6853458c5526bfcb0",
            "_model_module": "@jupyter-widgets/controls",
            "children": [
              "IPY_MODEL_fbfeb2a4fb7c47e49ba171b28a4394bd",
              "IPY_MODEL_6aacf3997b0248d9b268e6f60726eb50",
              "IPY_MODEL_5d2db0cc835549e09031b7da5a00df52"
            ]
          }
        },
        "1629977a76a94ec6853458c5526bfcb0": {
          "model_module": "@jupyter-widgets/base",
          "model_name": "LayoutModel",
          "state": {
            "_view_name": "LayoutView",
            "grid_template_rows": null,
            "right": null,
            "justify_content": null,
            "_view_module": "@jupyter-widgets/base",
            "overflow": null,
            "_model_module_version": "1.2.0",
            "_view_count": null,
            "flex_flow": "row wrap",
            "width": "100%",
            "min_width": null,
            "border": null,
            "align_items": null,
            "bottom": null,
            "_model_module": "@jupyter-widgets/base",
            "top": null,
            "grid_column": null,
            "overflow_y": null,
            "overflow_x": null,
            "grid_auto_flow": null,
            "grid_area": null,
            "grid_template_columns": null,
            "flex": null,
            "_model_name": "LayoutModel",
            "justify_items": null,
            "grid_row": null,
            "max_height": null,
            "align_content": null,
            "visibility": null,
            "align_self": null,
            "height": null,
            "min_height": null,
            "padding": null,
            "grid_auto_rows": null,
            "grid_gap": null,
            "max_width": null,
            "order": null,
            "_view_module_version": "1.2.0",
            "grid_template_areas": null,
            "object_position": null,
            "object_fit": null,
            "grid_auto_columns": null,
            "margin": null,
            "display": "inline-flex",
            "left": null
          }
        },
        "fbfeb2a4fb7c47e49ba171b28a4394bd": {
          "model_module": "@jupyter-widgets/controls",
          "model_name": "HTMLModel",
          "state": {
            "_view_name": "HTMLView",
            "style": "IPY_MODEL_df37c1331f074cbfbe9973166df0d45d",
            "_dom_classes": [],
            "description": "",
            "_model_name": "HTMLModel",
            "placeholder": "​",
            "_view_module": "@jupyter-widgets/controls",
            "_model_module_version": "1.5.0",
            "value": "Done! Use &#x27;show&#x27; commands to display/save.   ",
            "_view_count": null,
            "_view_module_version": "1.5.0",
            "description_tooltip": null,
            "_model_module": "@jupyter-widgets/controls",
            "layout": "IPY_MODEL_cb32e625ae3243f8ac29998b03c30326"
          }
        },
        "6aacf3997b0248d9b268e6f60726eb50": {
          "model_module": "@jupyter-widgets/controls",
          "model_name": "FloatProgressModel",
          "state": {
            "_view_name": "ProgressView",
            "style": "IPY_MODEL_8bb678ec7ea34987bc81f87d86ca1719",
            "_dom_classes": [],
            "description": "",
            "_model_name": "FloatProgressModel",
            "bar_style": "success",
            "max": 1,
            "_view_module": "@jupyter-widgets/controls",
            "_model_module_version": "1.5.0",
            "value": 1,
            "_view_count": null,
            "_view_module_version": "1.5.0",
            "orientation": "horizontal",
            "min": 0,
            "description_tooltip": null,
            "_model_module": "@jupyter-widgets/controls",
            "layout": "IPY_MODEL_2abe98b5c4434574947cc49ae8ae7bcf"
          }
        },
        "5d2db0cc835549e09031b7da5a00df52": {
          "model_module": "@jupyter-widgets/controls",
          "model_name": "HTMLModel",
          "state": {
            "_view_name": "HTMLView",
            "style": "IPY_MODEL_2341ff754b10483f8b4ce5e7c1feb657",
            "_dom_classes": [],
            "description": "",
            "_model_name": "HTMLModel",
            "placeholder": "​",
            "_view_module": "@jupyter-widgets/controls",
            "_model_module_version": "1.5.0",
            "value": " [100%]   00:00 -&gt; (00:00 left)",
            "_view_count": null,
            "_view_module_version": "1.5.0",
            "description_tooltip": null,
            "_model_module": "@jupyter-widgets/controls",
            "layout": "IPY_MODEL_538dab8c32fe43f5acacdd64461ef5d9"
          }
        },
        "df37c1331f074cbfbe9973166df0d45d": {
          "model_module": "@jupyter-widgets/controls",
          "model_name": "DescriptionStyleModel",
          "state": {
            "_view_name": "StyleView",
            "_model_name": "DescriptionStyleModel",
            "description_width": "",
            "_view_module": "@jupyter-widgets/base",
            "_model_module_version": "1.5.0",
            "_view_count": null,
            "_view_module_version": "1.2.0",
            "_model_module": "@jupyter-widgets/controls"
          }
        },
        "cb32e625ae3243f8ac29998b03c30326": {
          "model_module": "@jupyter-widgets/base",
          "model_name": "LayoutModel",
          "state": {
            "_view_name": "LayoutView",
            "grid_template_rows": null,
            "right": null,
            "justify_content": null,
            "_view_module": "@jupyter-widgets/base",
            "overflow": null,
            "_model_module_version": "1.2.0",
            "_view_count": null,
            "flex_flow": null,
            "width": null,
            "min_width": null,
            "border": null,
            "align_items": null,
            "bottom": null,
            "_model_module": "@jupyter-widgets/base",
            "top": null,
            "grid_column": null,
            "overflow_y": null,
            "overflow_x": null,
            "grid_auto_flow": null,
            "grid_area": null,
            "grid_template_columns": null,
            "flex": null,
            "_model_name": "LayoutModel",
            "justify_items": null,
            "grid_row": null,
            "max_height": null,
            "align_content": null,
            "visibility": null,
            "align_self": null,
            "height": null,
            "min_height": null,
            "padding": null,
            "grid_auto_rows": null,
            "grid_gap": null,
            "max_width": null,
            "order": null,
            "_view_module_version": "1.2.0",
            "grid_template_areas": null,
            "object_position": null,
            "object_fit": null,
            "grid_auto_columns": null,
            "margin": null,
            "display": null,
            "left": null
          }
        },
        "8bb678ec7ea34987bc81f87d86ca1719": {
          "model_module": "@jupyter-widgets/controls",
          "model_name": "ProgressStyleModel",
          "state": {
            "_view_name": "StyleView",
            "_model_name": "ProgressStyleModel",
            "description_width": "",
            "_view_module": "@jupyter-widgets/base",
            "_model_module_version": "1.5.0",
            "_view_count": null,
            "_view_module_version": "1.2.0",
            "bar_color": null,
            "_model_module": "@jupyter-widgets/controls"
          }
        },
        "2abe98b5c4434574947cc49ae8ae7bcf": {
          "model_module": "@jupyter-widgets/base",
          "model_name": "LayoutModel",
          "state": {
            "_view_name": "LayoutView",
            "grid_template_rows": null,
            "right": null,
            "justify_content": null,
            "_view_module": "@jupyter-widgets/base",
            "overflow": null,
            "_model_module_version": "1.2.0",
            "_view_count": null,
            "flex_flow": null,
            "width": null,
            "min_width": null,
            "border": null,
            "align_items": null,
            "bottom": null,
            "_model_module": "@jupyter-widgets/base",
            "top": null,
            "grid_column": null,
            "overflow_y": null,
            "overflow_x": null,
            "grid_auto_flow": null,
            "grid_area": null,
            "grid_template_columns": null,
            "flex": "2",
            "_model_name": "LayoutModel",
            "justify_items": null,
            "grid_row": null,
            "max_height": null,
            "align_content": null,
            "visibility": null,
            "align_self": null,
            "height": null,
            "min_height": null,
            "padding": null,
            "grid_auto_rows": null,
            "grid_gap": null,
            "max_width": null,
            "order": null,
            "_view_module_version": "1.2.0",
            "grid_template_areas": null,
            "object_position": null,
            "object_fit": null,
            "grid_auto_columns": null,
            "margin": null,
            "display": null,
            "left": null
          }
        },
        "2341ff754b10483f8b4ce5e7c1feb657": {
          "model_module": "@jupyter-widgets/controls",
          "model_name": "DescriptionStyleModel",
          "state": {
            "_view_name": "StyleView",
            "_model_name": "DescriptionStyleModel",
            "description_width": "",
            "_view_module": "@jupyter-widgets/base",
            "_model_module_version": "1.5.0",
            "_view_count": null,
            "_view_module_version": "1.2.0",
            "_model_module": "@jupyter-widgets/controls"
          }
        },
        "538dab8c32fe43f5acacdd64461ef5d9": {
          "model_module": "@jupyter-widgets/base",
          "model_name": "LayoutModel",
          "state": {
            "_view_name": "LayoutView",
            "grid_template_rows": null,
            "right": null,
            "justify_content": null,
            "_view_module": "@jupyter-widgets/base",
            "overflow": null,
            "_model_module_version": "1.2.0",
            "_view_count": null,
            "flex_flow": null,
            "width": null,
            "min_width": null,
            "border": null,
            "align_items": null,
            "bottom": null,
            "_model_module": "@jupyter-widgets/base",
            "top": null,
            "grid_column": null,
            "overflow_y": null,
            "overflow_x": null,
            "grid_auto_flow": null,
            "grid_area": null,
            "grid_template_columns": null,
            "flex": null,
            "_model_name": "LayoutModel",
            "justify_items": null,
            "grid_row": null,
            "max_height": null,
            "align_content": null,
            "visibility": null,
            "align_self": null,
            "height": null,
            "min_height": null,
            "padding": null,
            "grid_auto_rows": null,
            "grid_gap": null,
            "max_width": null,
            "order": null,
            "_view_module_version": "1.2.0",
            "grid_template_areas": null,
            "object_position": null,
            "object_fit": null,
            "grid_auto_columns": null,
            "margin": null,
            "display": null,
            "left": null
          }
        },
        "4811ad0b8d3a4c4d8e13af44b6e65156": {
          "model_module": "@jupyter-widgets/controls",
          "model_name": "HBoxModel",
          "state": {
            "_view_name": "HBoxView",
            "_dom_classes": [],
            "_model_name": "HBoxModel",
            "_view_module": "@jupyter-widgets/controls",
            "_model_module_version": "1.5.0",
            "_view_count": null,
            "_view_module_version": "1.5.0",
            "box_style": "",
            "layout": "IPY_MODEL_b04ead42c54548f398f2673d0db5ded9",
            "_model_module": "@jupyter-widgets/controls",
            "children": [
              "IPY_MODEL_8410eb00f853435584161351e7dc1073",
              "IPY_MODEL_1803c759f0944e0a8b3b24f97e830363",
              "IPY_MODEL_d49db64f0208409eaab95be09c9c324e"
            ]
          }
        },
        "b04ead42c54548f398f2673d0db5ded9": {
          "model_module": "@jupyter-widgets/base",
          "model_name": "LayoutModel",
          "state": {
            "_view_name": "LayoutView",
            "grid_template_rows": null,
            "right": null,
            "justify_content": null,
            "_view_module": "@jupyter-widgets/base",
            "overflow": null,
            "_model_module_version": "1.2.0",
            "_view_count": null,
            "flex_flow": "row wrap",
            "width": "100%",
            "min_width": null,
            "border": null,
            "align_items": null,
            "bottom": null,
            "_model_module": "@jupyter-widgets/base",
            "top": null,
            "grid_column": null,
            "overflow_y": null,
            "overflow_x": null,
            "grid_auto_flow": null,
            "grid_area": null,
            "grid_template_columns": null,
            "flex": null,
            "_model_name": "LayoutModel",
            "justify_items": null,
            "grid_row": null,
            "max_height": null,
            "align_content": null,
            "visibility": null,
            "align_self": null,
            "height": null,
            "min_height": null,
            "padding": null,
            "grid_auto_rows": null,
            "grid_gap": null,
            "max_width": null,
            "order": null,
            "_view_module_version": "1.2.0",
            "grid_template_areas": null,
            "object_position": null,
            "object_fit": null,
            "grid_auto_columns": null,
            "margin": null,
            "display": "inline-flex",
            "left": null
          }
        },
        "8410eb00f853435584161351e7dc1073": {
          "model_module": "@jupyter-widgets/controls",
          "model_name": "HTMLModel",
          "state": {
            "_view_name": "HTMLView",
            "style": "IPY_MODEL_4d16cf8e6e874101a7a8a3ddb8dce42d",
            "_dom_classes": [],
            "description": "",
            "_model_name": "HTMLModel",
            "placeholder": "​",
            "_view_module": "@jupyter-widgets/controls",
            "_model_module_version": "1.5.0",
            "value": "Done! Use &#x27;show&#x27; commands to display/save.   ",
            "_view_count": null,
            "_view_module_version": "1.5.0",
            "description_tooltip": null,
            "_model_module": "@jupyter-widgets/controls",
            "layout": "IPY_MODEL_38352a6f08024c27adb3cb89f79dc65f"
          }
        },
        "1803c759f0944e0a8b3b24f97e830363": {
          "model_module": "@jupyter-widgets/controls",
          "model_name": "FloatProgressModel",
          "state": {
            "_view_name": "ProgressView",
            "style": "IPY_MODEL_b310d9a1e44a42aebe7d2de7c82fd985",
            "_dom_classes": [],
            "description": "",
            "_model_name": "FloatProgressModel",
            "bar_style": "success",
            "max": 1,
            "_view_module": "@jupyter-widgets/controls",
            "_model_module_version": "1.5.0",
            "value": 1,
            "_view_count": null,
            "_view_module_version": "1.5.0",
            "orientation": "horizontal",
            "min": 0,
            "description_tooltip": null,
            "_model_module": "@jupyter-widgets/controls",
            "layout": "IPY_MODEL_5ba1cdf4befe4815b8ab3a5a749fc1b3"
          }
        },
        "d49db64f0208409eaab95be09c9c324e": {
          "model_module": "@jupyter-widgets/controls",
          "model_name": "HTMLModel",
          "state": {
            "_view_name": "HTMLView",
            "style": "IPY_MODEL_d69b1968f54146288c9d40479b6df27b",
            "_dom_classes": [],
            "description": "",
            "_model_name": "HTMLModel",
            "placeholder": "​",
            "_view_module": "@jupyter-widgets/controls",
            "_model_module_version": "1.5.0",
            "value": " [100%]   00:00 -&gt; (00:00 left)",
            "_view_count": null,
            "_view_module_version": "1.5.0",
            "description_tooltip": null,
            "_model_module": "@jupyter-widgets/controls",
            "layout": "IPY_MODEL_9ba7268c81ef4edebbd59eb8510ec3ee"
          }
        },
        "4d16cf8e6e874101a7a8a3ddb8dce42d": {
          "model_module": "@jupyter-widgets/controls",
          "model_name": "DescriptionStyleModel",
          "state": {
            "_view_name": "StyleView",
            "_model_name": "DescriptionStyleModel",
            "description_width": "",
            "_view_module": "@jupyter-widgets/base",
            "_model_module_version": "1.5.0",
            "_view_count": null,
            "_view_module_version": "1.2.0",
            "_model_module": "@jupyter-widgets/controls"
          }
        },
        "38352a6f08024c27adb3cb89f79dc65f": {
          "model_module": "@jupyter-widgets/base",
          "model_name": "LayoutModel",
          "state": {
            "_view_name": "LayoutView",
            "grid_template_rows": null,
            "right": null,
            "justify_content": null,
            "_view_module": "@jupyter-widgets/base",
            "overflow": null,
            "_model_module_version": "1.2.0",
            "_view_count": null,
            "flex_flow": null,
            "width": null,
            "min_width": null,
            "border": null,
            "align_items": null,
            "bottom": null,
            "_model_module": "@jupyter-widgets/base",
            "top": null,
            "grid_column": null,
            "overflow_y": null,
            "overflow_x": null,
            "grid_auto_flow": null,
            "grid_area": null,
            "grid_template_columns": null,
            "flex": null,
            "_model_name": "LayoutModel",
            "justify_items": null,
            "grid_row": null,
            "max_height": null,
            "align_content": null,
            "visibility": null,
            "align_self": null,
            "height": null,
            "min_height": null,
            "padding": null,
            "grid_auto_rows": null,
            "grid_gap": null,
            "max_width": null,
            "order": null,
            "_view_module_version": "1.2.0",
            "grid_template_areas": null,
            "object_position": null,
            "object_fit": null,
            "grid_auto_columns": null,
            "margin": null,
            "display": null,
            "left": null
          }
        },
        "b310d9a1e44a42aebe7d2de7c82fd985": {
          "model_module": "@jupyter-widgets/controls",
          "model_name": "ProgressStyleModel",
          "state": {
            "_view_name": "StyleView",
            "_model_name": "ProgressStyleModel",
            "description_width": "",
            "_view_module": "@jupyter-widgets/base",
            "_model_module_version": "1.5.0",
            "_view_count": null,
            "_view_module_version": "1.2.0",
            "bar_color": null,
            "_model_module": "@jupyter-widgets/controls"
          }
        },
        "5ba1cdf4befe4815b8ab3a5a749fc1b3": {
          "model_module": "@jupyter-widgets/base",
          "model_name": "LayoutModel",
          "state": {
            "_view_name": "LayoutView",
            "grid_template_rows": null,
            "right": null,
            "justify_content": null,
            "_view_module": "@jupyter-widgets/base",
            "overflow": null,
            "_model_module_version": "1.2.0",
            "_view_count": null,
            "flex_flow": null,
            "width": null,
            "min_width": null,
            "border": null,
            "align_items": null,
            "bottom": null,
            "_model_module": "@jupyter-widgets/base",
            "top": null,
            "grid_column": null,
            "overflow_y": null,
            "overflow_x": null,
            "grid_auto_flow": null,
            "grid_area": null,
            "grid_template_columns": null,
            "flex": "2",
            "_model_name": "LayoutModel",
            "justify_items": null,
            "grid_row": null,
            "max_height": null,
            "align_content": null,
            "visibility": null,
            "align_self": null,
            "height": null,
            "min_height": null,
            "padding": null,
            "grid_auto_rows": null,
            "grid_gap": null,
            "max_width": null,
            "order": null,
            "_view_module_version": "1.2.0",
            "grid_template_areas": null,
            "object_position": null,
            "object_fit": null,
            "grid_auto_columns": null,
            "margin": null,
            "display": null,
            "left": null
          }
        },
        "d69b1968f54146288c9d40479b6df27b": {
          "model_module": "@jupyter-widgets/controls",
          "model_name": "DescriptionStyleModel",
          "state": {
            "_view_name": "StyleView",
            "_model_name": "DescriptionStyleModel",
            "description_width": "",
            "_view_module": "@jupyter-widgets/base",
            "_model_module_version": "1.5.0",
            "_view_count": null,
            "_view_module_version": "1.2.0",
            "_model_module": "@jupyter-widgets/controls"
          }
        },
        "9ba7268c81ef4edebbd59eb8510ec3ee": {
          "model_module": "@jupyter-widgets/base",
          "model_name": "LayoutModel",
          "state": {
            "_view_name": "LayoutView",
            "grid_template_rows": null,
            "right": null,
            "justify_content": null,
            "_view_module": "@jupyter-widgets/base",
            "overflow": null,
            "_model_module_version": "1.2.0",
            "_view_count": null,
            "flex_flow": null,
            "width": null,
            "min_width": null,
            "border": null,
            "align_items": null,
            "bottom": null,
            "_model_module": "@jupyter-widgets/base",
            "top": null,
            "grid_column": null,
            "overflow_y": null,
            "overflow_x": null,
            "grid_auto_flow": null,
            "grid_area": null,
            "grid_template_columns": null,
            "flex": null,
            "_model_name": "LayoutModel",
            "justify_items": null,
            "grid_row": null,
            "max_height": null,
            "align_content": null,
            "visibility": null,
            "align_self": null,
            "height": null,
            "min_height": null,
            "padding": null,
            "grid_auto_rows": null,
            "grid_gap": null,
            "max_width": null,
            "order": null,
            "_view_module_version": "1.2.0",
            "grid_template_areas": null,
            "object_position": null,
            "object_fit": null,
            "grid_auto_columns": null,
            "margin": null,
            "display": null,
            "left": null
          }
        },
        "9a6b5d5f56bb42d88d32027bf158c575": {
          "model_module": "@jupyter-widgets/controls",
          "model_name": "HBoxModel",
          "state": {
            "_view_name": "HBoxView",
            "_dom_classes": [],
            "_model_name": "HBoxModel",
            "_view_module": "@jupyter-widgets/controls",
            "_model_module_version": "1.5.0",
            "_view_count": null,
            "_view_module_version": "1.5.0",
            "box_style": "",
            "layout": "IPY_MODEL_07e5268297f34cf9b0ef202779467771",
            "_model_module": "@jupyter-widgets/controls",
            "children": [
              "IPY_MODEL_cb9218a64f3a408bbfda509f3e5e179d",
              "IPY_MODEL_0739b11657e245918172f41b357bc56c",
              "IPY_MODEL_5254aca181bd47829106ac93c6add2ad"
            ]
          }
        },
        "07e5268297f34cf9b0ef202779467771": {
          "model_module": "@jupyter-widgets/base",
          "model_name": "LayoutModel",
          "state": {
            "_view_name": "LayoutView",
            "grid_template_rows": null,
            "right": null,
            "justify_content": null,
            "_view_module": "@jupyter-widgets/base",
            "overflow": null,
            "_model_module_version": "1.2.0",
            "_view_count": null,
            "flex_flow": "row wrap",
            "width": "100%",
            "min_width": null,
            "border": null,
            "align_items": null,
            "bottom": null,
            "_model_module": "@jupyter-widgets/base",
            "top": null,
            "grid_column": null,
            "overflow_y": null,
            "overflow_x": null,
            "grid_auto_flow": null,
            "grid_area": null,
            "grid_template_columns": null,
            "flex": null,
            "_model_name": "LayoutModel",
            "justify_items": null,
            "grid_row": null,
            "max_height": null,
            "align_content": null,
            "visibility": null,
            "align_self": null,
            "height": null,
            "min_height": null,
            "padding": null,
            "grid_auto_rows": null,
            "grid_gap": null,
            "max_width": null,
            "order": null,
            "_view_module_version": "1.2.0",
            "grid_template_areas": null,
            "object_position": null,
            "object_fit": null,
            "grid_auto_columns": null,
            "margin": null,
            "display": "inline-flex",
            "left": null
          }
        },
        "cb9218a64f3a408bbfda509f3e5e179d": {
          "model_module": "@jupyter-widgets/controls",
          "model_name": "HTMLModel",
          "state": {
            "_view_name": "HTMLView",
            "style": "IPY_MODEL_9db10e03ea2f4c449be94d3ab775f823",
            "_dom_classes": [],
            "description": "",
            "_model_name": "HTMLModel",
            "placeholder": "​",
            "_view_module": "@jupyter-widgets/controls",
            "_model_module_version": "1.5.0",
            "value": "Done! Use &#x27;show&#x27; commands to display/save.   ",
            "_view_count": null,
            "_view_module_version": "1.5.0",
            "description_tooltip": null,
            "_model_module": "@jupyter-widgets/controls",
            "layout": "IPY_MODEL_658ac7e534b64c14ad319bf8c5946283"
          }
        },
        "0739b11657e245918172f41b357bc56c": {
          "model_module": "@jupyter-widgets/controls",
          "model_name": "FloatProgressModel",
          "state": {
            "_view_name": "ProgressView",
            "style": "IPY_MODEL_c95529985b85467989054588c574c4d8",
            "_dom_classes": [],
            "description": "",
            "_model_name": "FloatProgressModel",
            "bar_style": "success",
            "max": 1,
            "_view_module": "@jupyter-widgets/controls",
            "_model_module_version": "1.5.0",
            "value": 1,
            "_view_count": null,
            "_view_module_version": "1.5.0",
            "orientation": "horizontal",
            "min": 0,
            "description_tooltip": null,
            "_model_module": "@jupyter-widgets/controls",
            "layout": "IPY_MODEL_f78456f6b3f44fbaa614fa125c616756"
          }
        },
        "5254aca181bd47829106ac93c6add2ad": {
          "model_module": "@jupyter-widgets/controls",
          "model_name": "HTMLModel",
          "state": {
            "_view_name": "HTMLView",
            "style": "IPY_MODEL_e280a8c5a8094494a1927333e4f96c88",
            "_dom_classes": [],
            "description": "",
            "_model_name": "HTMLModel",
            "placeholder": "​",
            "_view_module": "@jupyter-widgets/controls",
            "_model_module_version": "1.5.0",
            "value": " [100%]   00:00 -&gt; (00:00 left)",
            "_view_count": null,
            "_view_module_version": "1.5.0",
            "description_tooltip": null,
            "_model_module": "@jupyter-widgets/controls",
            "layout": "IPY_MODEL_0fbb4ea37095412bb35b802d83ea8a08"
          }
        },
        "9db10e03ea2f4c449be94d3ab775f823": {
          "model_module": "@jupyter-widgets/controls",
          "model_name": "DescriptionStyleModel",
          "state": {
            "_view_name": "StyleView",
            "_model_name": "DescriptionStyleModel",
            "description_width": "",
            "_view_module": "@jupyter-widgets/base",
            "_model_module_version": "1.5.0",
            "_view_count": null,
            "_view_module_version": "1.2.0",
            "_model_module": "@jupyter-widgets/controls"
          }
        },
        "658ac7e534b64c14ad319bf8c5946283": {
          "model_module": "@jupyter-widgets/base",
          "model_name": "LayoutModel",
          "state": {
            "_view_name": "LayoutView",
            "grid_template_rows": null,
            "right": null,
            "justify_content": null,
            "_view_module": "@jupyter-widgets/base",
            "overflow": null,
            "_model_module_version": "1.2.0",
            "_view_count": null,
            "flex_flow": null,
            "width": null,
            "min_width": null,
            "border": null,
            "align_items": null,
            "bottom": null,
            "_model_module": "@jupyter-widgets/base",
            "top": null,
            "grid_column": null,
            "overflow_y": null,
            "overflow_x": null,
            "grid_auto_flow": null,
            "grid_area": null,
            "grid_template_columns": null,
            "flex": null,
            "_model_name": "LayoutModel",
            "justify_items": null,
            "grid_row": null,
            "max_height": null,
            "align_content": null,
            "visibility": null,
            "align_self": null,
            "height": null,
            "min_height": null,
            "padding": null,
            "grid_auto_rows": null,
            "grid_gap": null,
            "max_width": null,
            "order": null,
            "_view_module_version": "1.2.0",
            "grid_template_areas": null,
            "object_position": null,
            "object_fit": null,
            "grid_auto_columns": null,
            "margin": null,
            "display": null,
            "left": null
          }
        },
        "c95529985b85467989054588c574c4d8": {
          "model_module": "@jupyter-widgets/controls",
          "model_name": "ProgressStyleModel",
          "state": {
            "_view_name": "StyleView",
            "_model_name": "ProgressStyleModel",
            "description_width": "",
            "_view_module": "@jupyter-widgets/base",
            "_model_module_version": "1.5.0",
            "_view_count": null,
            "_view_module_version": "1.2.0",
            "bar_color": null,
            "_model_module": "@jupyter-widgets/controls"
          }
        },
        "f78456f6b3f44fbaa614fa125c616756": {
          "model_module": "@jupyter-widgets/base",
          "model_name": "LayoutModel",
          "state": {
            "_view_name": "LayoutView",
            "grid_template_rows": null,
            "right": null,
            "justify_content": null,
            "_view_module": "@jupyter-widgets/base",
            "overflow": null,
            "_model_module_version": "1.2.0",
            "_view_count": null,
            "flex_flow": null,
            "width": null,
            "min_width": null,
            "border": null,
            "align_items": null,
            "bottom": null,
            "_model_module": "@jupyter-widgets/base",
            "top": null,
            "grid_column": null,
            "overflow_y": null,
            "overflow_x": null,
            "grid_auto_flow": null,
            "grid_area": null,
            "grid_template_columns": null,
            "flex": "2",
            "_model_name": "LayoutModel",
            "justify_items": null,
            "grid_row": null,
            "max_height": null,
            "align_content": null,
            "visibility": null,
            "align_self": null,
            "height": null,
            "min_height": null,
            "padding": null,
            "grid_auto_rows": null,
            "grid_gap": null,
            "max_width": null,
            "order": null,
            "_view_module_version": "1.2.0",
            "grid_template_areas": null,
            "object_position": null,
            "object_fit": null,
            "grid_auto_columns": null,
            "margin": null,
            "display": null,
            "left": null
          }
        },
        "e280a8c5a8094494a1927333e4f96c88": {
          "model_module": "@jupyter-widgets/controls",
          "model_name": "DescriptionStyleModel",
          "state": {
            "_view_name": "StyleView",
            "_model_name": "DescriptionStyleModel",
            "description_width": "",
            "_view_module": "@jupyter-widgets/base",
            "_model_module_version": "1.5.0",
            "_view_count": null,
            "_view_module_version": "1.2.0",
            "_model_module": "@jupyter-widgets/controls"
          }
        },
        "0fbb4ea37095412bb35b802d83ea8a08": {
          "model_module": "@jupyter-widgets/base",
          "model_name": "LayoutModel",
          "state": {
            "_view_name": "LayoutView",
            "grid_template_rows": null,
            "right": null,
            "justify_content": null,
            "_view_module": "@jupyter-widgets/base",
            "overflow": null,
            "_model_module_version": "1.2.0",
            "_view_count": null,
            "flex_flow": null,
            "width": null,
            "min_width": null,
            "border": null,
            "align_items": null,
            "bottom": null,
            "_model_module": "@jupyter-widgets/base",
            "top": null,
            "grid_column": null,
            "overflow_y": null,
            "overflow_x": null,
            "grid_auto_flow": null,
            "grid_area": null,
            "grid_template_columns": null,
            "flex": null,
            "_model_name": "LayoutModel",
            "justify_items": null,
            "grid_row": null,
            "max_height": null,
            "align_content": null,
            "visibility": null,
            "align_self": null,
            "height": null,
            "min_height": null,
            "padding": null,
            "grid_auto_rows": null,
            "grid_gap": null,
            "max_width": null,
            "order": null,
            "_view_module_version": "1.2.0",
            "grid_template_areas": null,
            "object_position": null,
            "object_fit": null,
            "grid_auto_columns": null,
            "margin": null,
            "display": null,
            "left": null
          }
        }
      }
    }
  },
  "cells": [
    {
      "cell_type": "markdown",
      "metadata": {
        "id": "view-in-github",
        "colab_type": "text"
      },
      "source": [
        "<a href=\"https://colab.research.google.com/github/andremarinho17/data_projects/blob/master/Automatiza%C3%A7%C3%A3o_da_An%C3%A1lise_de_Dados_do_E_commerce_do_Brasil_com_SweetViz.ipynb\" target=\"_parent\"><img src=\"https://colab.research.google.com/assets/colab-badge.svg\" alt=\"Open In Colab\"/></a>"
      ]
    },
    {
      "cell_type": "markdown",
      "metadata": {
        "id": "CyGNTsSU3XmZ"
      },
      "source": [
        "## Automatização da Análise de Dados do E-commerce do Brasil com SweetViz"
      ]
    },
    {
      "cell_type": "markdown",
      "metadata": {
        "id": "j9mBzshFr6mA"
      },
      "source": [
        "A análise exploratória dos dados é uma das partes mais importantes de um projeto de Data Science, isso porque ela é fundamental para que o cientista conheça seus dados, sua qualidade, distribuição e assim, tomar as melhores decisões e criar as melhores hipóteses para implementar seus algoritmos de machine learning ou deep learning. Neste projeto, irei mostrar uma ferramenta poderosa para este tipo de análise e como ela pode ser usada para automatizar essa parte dos processos de Data Science, onde será usado um dataset com informações do E-commerce no Brasil disponível nesse [link](https://www.kaggle.com/olistbr/brazilian-ecommerce).\n",
        "\n",
        "<p align=\"center\"><img width=\"70%\" src=\"https://raw.githubusercontent.com/andremarinho17/imagens/main/cropped-image-of-woman-inputting-card-information-and-key-on-phone-or-laptop-while-shopping-online.jpg\"></p>\n",
        "\n",
        "Obs: Com o objetivo de simular a realidade de muitos que usam o Excel, a equipe do [Sigmoidal](https://sigmoidal.ai/) organizou os dados em planilhas.\n"
      ]
    },
    {
      "cell_type": "markdown",
      "metadata": {
        "id": "8lg26tbrt4jN"
      },
      "source": [
        "### **O E-commerce no Brasil**"
      ]
    },
    {
      "cell_type": "markdown",
      "metadata": {
        "id": "saaYESXQuKhv"
      },
      "source": [
        "<p align=\"center\"><img width=\"50%\" src=\"https://raw.githubusercontent.com/andremarinho17/imagens/main/1_E0vogOA1mu1VAHgWj3dV_Q.jpeg\"></p>\n",
        "\n",
        "Mesmo diante do complicado cenário da pandemia da COVID-19, o E-commerce cresceu no Brasil. Segundo um relatório recente [divulgado pela Compre&Confie](https://www.ecommercebrasil.com.br/noticias/faturamento-do-e-commerce-brasileiro-2020/), e-commerces e marketplaces tiveram um crescimento de 56,8% até agosto de 2020. Com isso, pode-se afirmar que os consumidores estão cada vez mais interessados e confiantes em compras online, o que melhora o cenário para este tipo de comécio.\n",
        "\n",
        "Segundo Gabriel Lima, em seu artigo “Panorama de 2020, destino do e-commerce no Brasil e o que vem em 2021”, existe uma avaliação muito positiva e o e-commerce tem movimentado muito a economia do país ao longo da pandemia, e que para esse crescimento, os líderes digitais investiram e transformaram seus canais, que antes era apenas estratégico, em essencial para os consumidores. Você pode ler o artigo completo [aqui](https://www.ecommercebrasil.com.br/artigos/panorama-de-2020-destino-do-e-commerce-no-brasil-e-o-que-vem-em-2021/)."
      ]
    },
    {
      "cell_type": "markdown",
      "metadata": {
        "id": "EjywRHRSvgJM"
      },
      "source": [
        "###**Análise Exploratória com SweetViz**"
      ]
    },
    {
      "cell_type": "markdown",
      "metadata": {
        "id": "ExRnSz52uHem"
      },
      "source": [
        "O Python tem uma biblioteca excelente que se chama SweetViz e que pode nos ajudar muito! A seguir, vou mostrar um pequeno tutorial sobre como automatizar a etapa de análise exploratória do projeto. \n",
        "\n",
        "Por padrão, o Colab não possui essa biblioteca instalada. Portanto, precisamos fazer a instalação manualmente."
      ]
    },
    {
      "cell_type": "code",
      "metadata": {
        "colab": {
          "base_uri": "https://localhost:8080/"
        },
        "id": "xV4anZwqykFz",
        "outputId": "17b61010-bda8-42a7-8875-1edf9755beae"
      },
      "source": [
        "# instalando o SweetViz\n",
        "!pip install sweetviz -q"
      ],
      "execution_count": 1,
      "outputs": [
        {
          "output_type": "stream",
          "text": [
            "\u001b[K     |████████████████████████████████| 15.1MB 287kB/s \n",
            "\u001b[K     |████████████████████████████████| 81kB 8.6MB/s \n",
            "\u001b[?25h"
          ],
          "name": "stdout"
        }
      ]
    },
    {
      "cell_type": "markdown",
      "metadata": {
        "id": "YkxGVwwxwKw8"
      },
      "source": [
        "Com a biblioteca pronta para ser usada, é necessário carregar os dados. Vamos utilizar o pandas para isso.\n"
      ]
    },
    {
      "cell_type": "code",
      "metadata": {
        "id": "OHZGmERtmOrs"
      },
      "source": [
        "# importando as bibliotecas necessárias\n",
        "import sweetviz\n",
        "import pandas as pd\n",
        "\n",
        "dados = pd.read_excel(\"https://www.dropbox.com/s/6zogl04a1h1sb3d/dados_ecommerce.xlsx?dl=1\", sheet_name=None)"
      ],
      "execution_count": 2,
      "outputs": []
    },
    {
      "cell_type": "code",
      "metadata": {
        "colab": {
          "base_uri": "https://localhost:8080/"
        },
        "id": "2yx3LBUKm-0V",
        "outputId": "97d7c570-b372-42a5-ae6f-bd34815da959"
      },
      "source": [
        "# visualizando como os dados estão estruturados\n",
        "dados"
      ],
      "execution_count": 3,
      "outputs": [
        {
          "output_type": "execute_result",
          "data": {
            "text/plain": [
              "{'Clientes':                             customer_id  ... customer_state\n",
              " 0      06b8999e2fba1a1fbc88172c00ba8bc7  ...             SP\n",
              " 1      18955e83d337fd6b2def6b18a428ac77  ...             SP\n",
              " 2      4e7b3e00288586ebd08712fdd0374a03  ...             SP\n",
              " 3      b2b6027bc5c5109e529d4dc6358b12c3  ...             SP\n",
              " 4      4f2d8ab171c80ec8364f7c12e35b23ad  ...             SP\n",
              " ...                                 ...  ...            ...\n",
              " 99436  17ddf5dd5d51696bb3d7c6291687be6f  ...             SP\n",
              " 99437  e7b71a9017aa05c9a7fd292d714858e8  ...             SP\n",
              " 99438  5e28dfe12db7fb50a4b2f691faecea5e  ...             CE\n",
              " 99439  56b18e2166679b8a959d72dd06da27f9  ...             RS\n",
              " 99440  274fa6071e5e17fe303b9748641082c8  ...             SP\n",
              " \n",
              " [99441 rows x 5 columns],\n",
              " 'Itens':                                 order_id  order_item_id  ...   price freight_value\n",
              " 0       00010242fe8c5a6d1ba2dd792cb16214              1  ...   58.90         13.29\n",
              " 1       00018f77f2f0320c557190d7a144bdd3              1  ...  239.90         19.93\n",
              " 2       000229ec398224ef6ca0657da4fc703e              1  ...  199.00         17.87\n",
              " 3       00024acbcdf0a6daa1e931b038114c75              1  ...   12.99         12.79\n",
              " 4       00042b26cf59d7ce69dfabb4e55b4fd9              1  ...  199.90         18.14\n",
              " ...                                  ...            ...  ...     ...           ...\n",
              " 112645  fffc94f6ce00a00581880bf54a75a037              1  ...  299.99         43.41\n",
              " 112646  fffcd46ef2263f404302a634eb57f7eb              1  ...  350.00         36.53\n",
              " 112647  fffce4705a9662cd70adb13d4a31832d              1  ...   99.90         16.95\n",
              " 112648  fffe18544ffabc95dfada21779c9644f              1  ...   55.99          8.72\n",
              " 112649  fffe41c64501cc87c801fd61db3f6244              1  ...   43.00         12.79\n",
              " \n",
              " [112650 rows x 7 columns],\n",
              " 'Pagamentos':                                 order_id  ...  payment_value\n",
              " 0       b81ef226f3fe1789b1e8b2acac839d17  ...          99.33\n",
              " 1       a9810da82917af2d9aefd1278f1dcfa0  ...          24.39\n",
              " 2       25e8ea4e93396b6fa0d3dd708e76c1bd  ...          65.71\n",
              " 3       ba78997921bbcdc1373bb41e913ab953  ...         107.78\n",
              " 4       42fdf880ba16b47b59251dd489d4441a  ...         128.45\n",
              " ...                                  ...  ...            ...\n",
              " 103881  0406037ad97740d563a178ecc7a2075c  ...         363.31\n",
              " 103882  7b905861d7c825891d6347454ea7863f  ...          96.80\n",
              " 103883  32609bbb3dd69b3c066a6860554a77bf  ...          47.77\n",
              " 103884  b8b61059626efa996a60be9bb9320e10  ...         369.54\n",
              " 103885  28bbae6599b09d39ca406b747b6632b1  ...         191.58\n",
              " \n",
              " [103886 rows x 5 columns]}"
            ]
          },
          "metadata": {
            "tags": []
          },
          "execution_count": 3
        }
      ]
    },
    {
      "cell_type": "markdown",
      "metadata": {
        "id": "XVVVsTCwwPfY"
      },
      "source": [
        "Uma vez carregados, é necessário verificar como estão organizadas as abas. Para isso, basta executar a seguir.\n"
      ]
    },
    {
      "cell_type": "code",
      "metadata": {
        "colab": {
          "base_uri": "https://localhost:8080/"
        },
        "id": "clX5xx2xnN7n",
        "outputId": "72215adc-3051-48fb-f240-2fb1e97e72c8"
      },
      "source": [
        "dados.keys()"
      ],
      "execution_count": 4,
      "outputs": [
        {
          "output_type": "execute_result",
          "data": {
            "text/plain": [
              "dict_keys(['Clientes', 'Pagamentos', 'Itens'])"
            ]
          },
          "metadata": {
            "tags": []
          },
          "execution_count": 4
        }
      ]
    },
    {
      "cell_type": "markdown",
      "metadata": {
        "id": "GaneMfQmwUAj"
      },
      "source": [
        "Os dados contém 3 abas, são elas:\n",
        "* Clientes: aba contendo os dados dos clientes como identificação, código postal, cidade e estado do cliente.\n",
        "* Pagamentos: aba que contém a identificação do pagamento, se é um pagamento sequencial ou não, tipo de pagamento, em quantas vezes ele foi parcelado e o valor do pagamento.\n",
        "* Itens: Aba com os itens comprados, contendo a identificação do produto, identificação da venda, data limite de envio, preço e valor do frete.\n"
      ]
    },
    {
      "cell_type": "code",
      "metadata": {
        "colab": {
          "base_uri": "https://localhost:8080/",
          "height": 204
        },
        "id": "8TeCSvKQnrB8",
        "outputId": "2c6ede0e-f1ed-4446-fc3b-bc91b06e9334"
      },
      "source": [
        "dados['Clientes'].head()"
      ],
      "execution_count": 5,
      "outputs": [
        {
          "output_type": "execute_result",
          "data": {
            "text/html": [
              "<div>\n",
              "<style scoped>\n",
              "    .dataframe tbody tr th:only-of-type {\n",
              "        vertical-align: middle;\n",
              "    }\n",
              "\n",
              "    .dataframe tbody tr th {\n",
              "        vertical-align: top;\n",
              "    }\n",
              "\n",
              "    .dataframe thead th {\n",
              "        text-align: right;\n",
              "    }\n",
              "</style>\n",
              "<table border=\"1\" class=\"dataframe\">\n",
              "  <thead>\n",
              "    <tr style=\"text-align: right;\">\n",
              "      <th></th>\n",
              "      <th>customer_id</th>\n",
              "      <th>customer_unique_id</th>\n",
              "      <th>customer_zip_code_prefix</th>\n",
              "      <th>customer_city</th>\n",
              "      <th>customer_state</th>\n",
              "    </tr>\n",
              "  </thead>\n",
              "  <tbody>\n",
              "    <tr>\n",
              "      <th>0</th>\n",
              "      <td>06b8999e2fba1a1fbc88172c00ba8bc7</td>\n",
              "      <td>861eff4711a542e4b93843c6dd7febb0</td>\n",
              "      <td>14409</td>\n",
              "      <td>franca</td>\n",
              "      <td>SP</td>\n",
              "    </tr>\n",
              "    <tr>\n",
              "      <th>1</th>\n",
              "      <td>18955e83d337fd6b2def6b18a428ac77</td>\n",
              "      <td>290c77bc529b7ac935b93aa66c333dc3</td>\n",
              "      <td>9790</td>\n",
              "      <td>sao bernardo do campo</td>\n",
              "      <td>SP</td>\n",
              "    </tr>\n",
              "    <tr>\n",
              "      <th>2</th>\n",
              "      <td>4e7b3e00288586ebd08712fdd0374a03</td>\n",
              "      <td>060e732b5b29e8181a18229c7b0b2b5e</td>\n",
              "      <td>1151</td>\n",
              "      <td>sao paulo</td>\n",
              "      <td>SP</td>\n",
              "    </tr>\n",
              "    <tr>\n",
              "      <th>3</th>\n",
              "      <td>b2b6027bc5c5109e529d4dc6358b12c3</td>\n",
              "      <td>259dac757896d24d7702b9acbbff3f3c</td>\n",
              "      <td>8775</td>\n",
              "      <td>mogi das cruzes</td>\n",
              "      <td>SP</td>\n",
              "    </tr>\n",
              "    <tr>\n",
              "      <th>4</th>\n",
              "      <td>4f2d8ab171c80ec8364f7c12e35b23ad</td>\n",
              "      <td>345ecd01c38d18a9036ed96c73b8d066</td>\n",
              "      <td>13056</td>\n",
              "      <td>campinas</td>\n",
              "      <td>SP</td>\n",
              "    </tr>\n",
              "  </tbody>\n",
              "</table>\n",
              "</div>"
            ],
            "text/plain": [
              "                        customer_id  ... customer_state\n",
              "0  06b8999e2fba1a1fbc88172c00ba8bc7  ...             SP\n",
              "1  18955e83d337fd6b2def6b18a428ac77  ...             SP\n",
              "2  4e7b3e00288586ebd08712fdd0374a03  ...             SP\n",
              "3  b2b6027bc5c5109e529d4dc6358b12c3  ...             SP\n",
              "4  4f2d8ab171c80ec8364f7c12e35b23ad  ...             SP\n",
              "\n",
              "[5 rows x 5 columns]"
            ]
          },
          "metadata": {
            "tags": []
          },
          "execution_count": 5
        }
      ]
    },
    {
      "cell_type": "markdown",
      "metadata": {
        "id": "BLuenmBgxT5L"
      },
      "source": [
        "#### **Relatórios no SweetViz**"
      ]
    },
    {
      "cell_type": "markdown",
      "metadata": {
        "id": "cYVwCaUSytqU"
      },
      "source": [
        "Com os dados a serem analisados carregados e prontos para uso, chegou a hora de utilizar o SweetViz.\n",
        "\n",
        "Para criar um relatório, vamos criar uma variável e associar a ela o resultado da função `analyze()`, que leva como parâmetro o conjunto de dados a ser analisados."
      ]
    },
    {
      "cell_type": "code",
      "metadata": {
        "colab": {
          "base_uri": "https://localhost:8080/",
          "height": 49,
          "referenced_widgets": [
            "61e13ebf6ca84592b877a3ca952bca3f",
            "1629977a76a94ec6853458c5526bfcb0",
            "fbfeb2a4fb7c47e49ba171b28a4394bd",
            "6aacf3997b0248d9b268e6f60726eb50",
            "5d2db0cc835549e09031b7da5a00df52",
            "df37c1331f074cbfbe9973166df0d45d",
            "cb32e625ae3243f8ac29998b03c30326",
            "8bb678ec7ea34987bc81f87d86ca1719",
            "2abe98b5c4434574947cc49ae8ae7bcf",
            "2341ff754b10483f8b4ce5e7c1feb657",
            "538dab8c32fe43f5acacdd64461ef5d9"
          ]
        },
        "id": "cJGAUEjqntbK",
        "outputId": "6488ca16-fc48-439e-938f-f4c53c22b6be"
      },
      "source": [
        "# criando o relatório de clientes\n",
        "relatorio_clients = sweetviz.analyze(dados['Clientes'])"
      ],
      "execution_count": 6,
      "outputs": [
        {
          "output_type": "display_data",
          "data": {
            "application/vnd.jupyter.widget-view+json": {
              "model_id": "61e13ebf6ca84592b877a3ca952bca3f",
              "version_minor": 0,
              "version_major": 2
            },
            "text/plain": [
              "                                             |          | [  0%]   00:00 -> (? left)"
            ]
          },
          "metadata": {
            "tags": []
          }
        }
      ]
    },
    {
      "cell_type": "code",
      "metadata": {
        "colab": {
          "base_uri": "https://localhost:8080/",
          "height": 49,
          "referenced_widgets": [
            "4811ad0b8d3a4c4d8e13af44b6e65156",
            "b04ead42c54548f398f2673d0db5ded9",
            "8410eb00f853435584161351e7dc1073",
            "1803c759f0944e0a8b3b24f97e830363",
            "d49db64f0208409eaab95be09c9c324e",
            "4d16cf8e6e874101a7a8a3ddb8dce42d",
            "38352a6f08024c27adb3cb89f79dc65f",
            "b310d9a1e44a42aebe7d2de7c82fd985",
            "5ba1cdf4befe4815b8ab3a5a749fc1b3",
            "d69b1968f54146288c9d40479b6df27b",
            "9ba7268c81ef4edebbd59eb8510ec3ee"
          ]
        },
        "id": "bMhislNDoO2X",
        "outputId": "fe45d14d-28a9-4251-83b4-231462bda2df"
      },
      "source": [
        "# criando o relatório de pagamentos\n",
        "relatorio_pagamentos = sweetviz.analyze(dados['Pagamentos'])"
      ],
      "execution_count": 7,
      "outputs": [
        {
          "output_type": "display_data",
          "data": {
            "application/vnd.jupyter.widget-view+json": {
              "model_id": "4811ad0b8d3a4c4d8e13af44b6e65156",
              "version_minor": 0,
              "version_major": 2
            },
            "text/plain": [
              "                                             |          | [  0%]   00:00 -> (? left)"
            ]
          },
          "metadata": {
            "tags": []
          }
        }
      ]
    },
    {
      "cell_type": "code",
      "metadata": {
        "id": "imtisNkgo61B",
        "colab": {
          "base_uri": "https://localhost:8080/",
          "height": 49,
          "referenced_widgets": [
            "9a6b5d5f56bb42d88d32027bf158c575",
            "07e5268297f34cf9b0ef202779467771",
            "cb9218a64f3a408bbfda509f3e5e179d",
            "0739b11657e245918172f41b357bc56c",
            "5254aca181bd47829106ac93c6add2ad",
            "9db10e03ea2f4c449be94d3ab775f823",
            "658ac7e534b64c14ad319bf8c5946283",
            "c95529985b85467989054588c574c4d8",
            "f78456f6b3f44fbaa614fa125c616756",
            "e280a8c5a8094494a1927333e4f96c88",
            "0fbb4ea37095412bb35b802d83ea8a08"
          ]
        },
        "outputId": "09781b31-4ea7-42e6-df7e-b6ea63395b52"
      },
      "source": [
        "# criando o relatório de itens\n",
        "relatorio_itens = sweetviz.analyze(dados['Itens'])"
      ],
      "execution_count": 8,
      "outputs": [
        {
          "output_type": "display_data",
          "data": {
            "application/vnd.jupyter.widget-view+json": {
              "model_id": "9a6b5d5f56bb42d88d32027bf158c575",
              "version_minor": 0,
              "version_major": 2
            },
            "text/plain": [
              "                                             |          | [  0%]   00:00 -> (? left)"
            ]
          },
          "metadata": {
            "tags": []
          }
        }
      ]
    },
    {
      "cell_type": "markdown",
      "metadata": {
        "id": "-vYeswx4zTij"
      },
      "source": [
        "Uma vez criados, é hora de visualizar os nossos relatórios, utilizando o comando `show.html()`, passando como parâmetro o nome do arquivo html a ser criado para o relatório(s) a ser exportado."
      ]
    },
    {
      "cell_type": "code",
      "metadata": {
        "colab": {
          "base_uri": "https://localhost:8080/"
        },
        "id": "B8XJ_8ltoHJU",
        "outputId": "9391a718-9dca-4541-ef6f-3ecf0b224641"
      },
      "source": [
        "# criando o arquivo html e mostrando o relatório de clientes\n",
        "relatorio_clients.show_html(\"clientes.html\")"
      ],
      "execution_count": 9,
      "outputs": [
        {
          "output_type": "stream",
          "text": [
            "Report clientes.html was generated! NOTEBOOK/COLAB USERS: the web browser MAY not pop up, regardless, the report IS saved in your notebook/colab files.\n"
          ],
          "name": "stdout"
        }
      ]
    },
    {
      "cell_type": "code",
      "metadata": {
        "id": "IV1i-W8-o3PJ",
        "colab": {
          "base_uri": "https://localhost:8080/"
        },
        "outputId": "c641bfe9-b64d-441f-b61d-c90889181f8f"
      },
      "source": [
        "# criando o arquivo html e mostrando o relatório de pagamentos\n",
        "relatorio_pagamentos.show_html(\"pagamentos.html\")"
      ],
      "execution_count": 10,
      "outputs": [
        {
          "output_type": "stream",
          "text": [
            "Report pagamentos.html was generated! NOTEBOOK/COLAB USERS: the web browser MAY not pop up, regardless, the report IS saved in your notebook/colab files.\n"
          ],
          "name": "stdout"
        }
      ]
    },
    {
      "cell_type": "code",
      "metadata": {
        "colab": {
          "base_uri": "https://localhost:8080/"
        },
        "id": "9aUU01qXzMDj",
        "outputId": "bb56c282-4ccf-43b7-e56c-af0ee3d30575"
      },
      "source": [
        "# criando o arquivo html e mostrando o relatório de itens\n",
        "relatorio_itens.show_html(\"itens.html\")"
      ],
      "execution_count": 12,
      "outputs": [
        {
          "output_type": "stream",
          "text": [
            "Report itens.html was generated! NOTEBOOK/COLAB USERS: the web browser MAY not pop up, regardless, the report IS saved in your notebook/colab files.\n"
          ],
          "name": "stdout"
        }
      ]
    },
    {
      "cell_type": "markdown",
      "metadata": {
        "id": "ipYNKjTzzb8a"
      },
      "source": [
        "Finalmente, chegou a hora de visualizá-los. Seguem imagens prévias dos relatórios que são gerados em html.\n",
        "\n",
        "**Itens**\n",
        "\n",
        "<p align=\"center\"><img width=\"70%\" src=\"https://raw.githubusercontent.com/andremarinho17/imagens/main/itens.png\"></p>\n",
        "\n",
        "**Clientes**\n",
        "\n",
        "<p align=\"center\"><img width=\"70%\" src=\"https://raw.githubusercontent.com/andremarinho17/imagens/main/clientes.png\"></p>\n",
        "\n",
        "**Pagamentos**\n",
        "\n",
        "<p align=\"center\"><img width=\"70%\" src=\"https://raw.githubusercontent.com/andremarinho17/imagens/main/pagamentos.png\"></p>\n",
        "\n"
      ]
    },
    {
      "cell_type": "markdown",
      "metadata": {
        "id": "OMC7Ji-i1cXh"
      },
      "source": [
        "É gerado um artigo bastante interativo, onde é possível obter diversas informações a respeito do dataset, ter uma noção da qualidade dele (valores ausentes, diferentes, etc), ter informações estatísticas e já fazer algumas análises. Seguem algumas."
      ]
    },
    {
      "cell_type": "markdown",
      "metadata": {
        "id": "Bn-Pf3Sa1f-x"
      },
      "source": [
        "###**Em qual estado há mais clientes de e-commerce?**"
      ]
    },
    {
      "cell_type": "markdown",
      "metadata": {
        "id": "3nnUFhbI1lrB"
      },
      "source": [
        "<p align=\"center\"><img width=\"70%\" src=\"https://raw.githubusercontent.com/andremarinho17/imagens/main/estados%20com%20mais%20clientes.png\"></p>\n",
        "\n",
        "<p align=\"center\"><img width=\"50%\" src=\"https://raw.githubusercontent.com/andremarinho17/imagens/main/categorias%20estado.png\"></p>\n",
        "\n",
        "O estado brasileiro em que há mais clientes de e-commerce é o Estado de São Paulo, totalizando 42%.\n"
      ]
    },
    {
      "cell_type": "markdown",
      "metadata": {
        "id": "aF4Mc0os2II4"
      },
      "source": [
        "###**Em qual cidade há mais clientes de e-commerce?**"
      ]
    },
    {
      "cell_type": "markdown",
      "metadata": {
        "id": "M0KDLJp22Pmg"
      },
      "source": [
        "O Sweetviz nos retorna uma tabela de frequência que responde a esta pergunta.\n",
        "\n",
        "<p align=\"center\"><img width=\"70%\" src=\"https://raw.githubusercontent.com/andremarinho17/imagens/main/cidades.png\"></p>\n",
        "\n",
        "16% das pessoas no e-commerce do Brasil compram na cidade São Paulo, seguido da cidade do Rio de Janeiro e Belo Horizonte, que correspondem a 7% e 3% respectivamente.\n"
      ]
    },
    {
      "cell_type": "markdown",
      "metadata": {
        "id": "gafZiYcX2krp"
      },
      "source": [
        "###**Quais são os tipos de pagamentos mais frequentes?**"
      ]
    },
    {
      "cell_type": "markdown",
      "metadata": {
        "id": "j7r2Q3D02o0w"
      },
      "source": [
        "<p align=\"center\"><img width=\"70%\" src=\"https://raw.githubusercontent.com/andremarinho17/imagens/main/tipos%20de%20pagamentos.png\"></p>\n",
        "\n",
        "Aproximadamente 74% das compras feitas na internet são por cartão de crédito e aproximadamente 20% são por boleto.\n",
        "\n",
        "É interessante observar o percentual dos pagamentos em boletos. No Brasil, segundo a Pesquisa de Endividamento e Inadimplência do Consumidor (Peic), em 2020 o índice de famílias endividadas chegou a 67,1% no mês de Julho. Além disso, entre as famílias com renda mensal de até 10 salários mínimos, 69% delas estão endividadas. O nível de inadimplência é de 26% das famílias que não conseguem pagar suas contas.\n",
        "\n",
        "Dessa forma, pode-se fazer uma análise mais avançada para verificar o quanto a emissão de boletos como forma de pagamento do e-commerce acompanha e o grau de endividamento do brasileiro, haja vista que durante a pandemia, muitos bancos cortaram créditos de muita gente da noite para o dia."
      ]
    },
    {
      "cell_type": "markdown",
      "metadata": {
        "id": "09JQ4kZT251v"
      },
      "source": [
        "##**Conclusões**"
      ]
    },
    {
      "cell_type": "markdown",
      "metadata": {
        "id": "Uf7A3S9P3AWX"
      },
      "source": [
        "Portanto, o Sweetviz é uma excelente ferramente para a análise exploratória, pois ele é capaz de analisar e criar relatórios sobre nossos dados de forma automatizada, exigindo pouquíssimo código, reduzindo a curva de aprendizado para análises completas, economizando tempo, e nos fornecendo belas visualizações, fáceis de navegar e entender."
      ]
    },
    {
      "cell_type": "code",
      "metadata": {
        "id": "uhb6LbFAzd6l"
      },
      "source": [
        ""
      ],
      "execution_count": null,
      "outputs": []
    }
  ]
}