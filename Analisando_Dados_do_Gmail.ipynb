{
  "nbformat": 4,
  "nbformat_minor": 0,
  "metadata": {
    "colab": {
      "name": "Analisando Dados do Gmail.ipynb",
      "provenance": [],
      "authorship_tag": "ABX9TyP+w9iBgMfSIJxBZVQ/lwga",
      "include_colab_link": true
    },
    "kernelspec": {
      "name": "python3",
      "display_name": "Python 3"
    },
    "language_info": {
      "name": "python"
    }
  },
  "cells": [
    {
      "cell_type": "markdown",
      "metadata": {
        "id": "view-in-github",
        "colab_type": "text"
      },
      "source": [
        "<a href=\"https://colab.research.google.com/github/andremarinho17/data_projects/blob/master/Analisando_Dados_do_Gmail.ipynb\" target=\"_parent\"><img src=\"https://colab.research.google.com/assets/colab-badge.svg\" alt=\"Open In Colab\"/></a>"
      ]
    },
    {
      "cell_type": "markdown",
      "metadata": {
        "id": "WPPjuGCexh-W"
      },
      "source": [
        "## Análise de Dados do Gmail"
      ]
    },
    {
      "cell_type": "markdown",
      "metadata": {
        "id": "H_JxH1BXxmHL"
      },
      "source": [
        "Todos os dias recebemos uma grande quantidade de e-mails que nos trazem variados tipos de informações em diversos formatos. Mas como organizar, entender e trabalhar com todos esses dados disponíveis?\n",
        "\n",
        "<center><img width=\"50%\" src=\"https://image.freepik.com/free-vector/mail-sent-concept-illustration_114360-168.jpg\"></center>\n",
        "\n",
        "Neste projeto, irei acessar, baixar, limpar e analisar os dados do meu gmail."
      ]
    },
    {
      "cell_type": "markdown",
      "metadata": {
        "id": "GG0PBK5hx2OF"
      },
      "source": [
        "Antes de começar o projeto em si, é necessário acessar o Gmail e importar os dados por meio do Google Takeout. Feita a importação, basta subir o arquivo zip para o notebook e usá-lo."
      ]
    },
    {
      "cell_type": "code",
      "metadata": {
        "id": "d93KKbd9YZYM"
      },
      "source": [
        "# importação dos pacotes necessários \n",
        "\n",
        "import pandas as pd \n",
        "import numpy as np \n",
        "import matplotlib.pyplot as plt\n",
        "import mailbox\n",
        "import re\n",
        "import pytz\n",
        "import seaborn as sns"
      ],
      "execution_count": 1,
      "outputs": []
    },
    {
      "cell_type": "markdown",
      "metadata": {
        "id": "iGoDOe_U0jMF"
      },
      "source": [
        "## Carregando os Dados"
      ]
    },
    {
      "cell_type": "markdown",
      "metadata": {
        "id": "f2YS0KAa0lIa"
      },
      "source": [
        "Feita a importação do arquivo .zip, é necessário descompacta-lo através do unzip."
      ]
    },
    {
      "cell_type": "code",
      "metadata": {
        "colab": {
          "base_uri": "https://localhost:8080/"
        },
        "id": "t9aHszVNgnWU",
        "outputId": "063c6a22-3973-420a-83b5-5057abf91e86"
      },
      "source": [
        "!unzip /content/takeout-20210420T131211Z-001.zip"
      ],
      "execution_count": 2,
      "outputs": [
        {
          "output_type": "stream",
          "text": [
            "Archive:  /content/takeout-20210420T131211Z-001.zip\n",
            "  inflating: Takeout/E-mail/Todos os e-mails, incluindo Spam e Lixeira.mbox  \n",
            "  inflating: Takeout/navegador_arquivo.html  \n"
          ],
          "name": "stdout"
        }
      ]
    },
    {
      "cell_type": "markdown",
      "metadata": {
        "id": "dsp3478Z03nF"
      },
      "source": [
        "Feita a descompactação, irei carregar os dados do meu e-mail por meio da biblioteca `mailbox`, haja vista que o arquivo é do tipo `mbox`."
      ]
    },
    {
      "cell_type": "code",
      "metadata": {
        "colab": {
          "base_uri": "https://localhost:8080/"
        },
        "id": "BsFNAmnvg8GU",
        "outputId": "fe3bf3d1-b8bf-42c2-da17-79616295ccd7"
      },
      "source": [
        "mbox = mailbox.mbox('/content/Takeout/E-mail/Todos os e-mails, incluindo Spam e Lixeira.mbox')\n",
        "\n",
        "mbox[0].keys()"
      ],
      "execution_count": 3,
      "outputs": [
        {
          "output_type": "execute_result",
          "data": {
            "text/plain": [
              "['X-GM-THRID',\n",
              " 'X-Gmail-Labels',\n",
              " 'Delivered-To',\n",
              " 'Received',\n",
              " 'X-Google-Smtp-Source',\n",
              " 'X-Received',\n",
              " 'ARC-Seal',\n",
              " 'ARC-Message-Signature',\n",
              " 'ARC-Authentication-Results',\n",
              " 'Return-Path',\n",
              " 'Received',\n",
              " 'Received-SPF',\n",
              " 'Authentication-Results',\n",
              " 'DKIM-Signature',\n",
              " 'DKIM-Signature',\n",
              " 'Received',\n",
              " 'Received',\n",
              " 'Content-Type',\n",
              " 'Date',\n",
              " 'From',\n",
              " 'Mime-Version',\n",
              " 'Message-ID',\n",
              " 'Subject',\n",
              " 'X-Feedback-ID',\n",
              " 'X-SG-EID',\n",
              " 'X-SG-ID',\n",
              " 'To',\n",
              " 'X-Entity-ID',\n",
              " 'List-Unsubscribe']"
            ]
          },
          "metadata": {
            "tags": []
          },
          "execution_count": 3
        }
      ]
    },
    {
      "cell_type": "markdown",
      "metadata": {
        "id": "_wSPa8in1UnT"
      },
      "source": [
        "Agora, é necessário transformar o arquivo do tipo mbox para um dataframe, pois assim fica mais fácil a manipulação dos dados através da biblioteca `pandas`. Para isso, vou criar um dicionário, onde as chaves são as informações que quero puxar, e os valores serão as entradas de cada e-mail, para cada variável de interesse. Em seguida vou convertê-lo em um dataframe."
      ]
    },
    {
      "cell_type": "code",
      "metadata": {
        "id": "JV3UhjoWhbkY"
      },
      "source": [
        "# criação do dicionário com os dados do mbox\n",
        "\n",
        "email_dict = {\n",
        "    'date': [],\n",
        "    'from': [],\n",
        "    'to': [],\n",
        "    'subject': [],\n",
        "    'labels': []\n",
        "}\n",
        "\n",
        "for message in mbox:\n",
        "  email_dict['date'].append(message['date'])\n",
        "  email_dict['from'].append(message['from'])\n",
        "  email_dict['to'].append(message['to'])\n",
        "  email_dict['subject'].append(message['subject'])\n",
        "  email_dict['labels'].append(message['X-Gmail-Labels'])"
      ],
      "execution_count": 4,
      "outputs": []
    },
    {
      "cell_type": "code",
      "metadata": {
        "id": "E1UPJ7nDjIrM"
      },
      "source": [
        "# conversão para o dataframe\n",
        "df = pd.DataFrame(email_dict)"
      ],
      "execution_count": 5,
      "outputs": []
    },
    {
      "cell_type": "code",
      "metadata": {
        "colab": {
          "base_uri": "https://localhost:8080/",
          "height": 289
        },
        "id": "BzxHeya5jP_g",
        "outputId": "8306e731-fe80-4a91-a5ee-19b3989cbb51"
      },
      "source": [
        "# verificação das cinco primeiras entradas.\n",
        "df.head()"
      ],
      "execution_count": 7,
      "outputs": [
        {
          "output_type": "execute_result",
          "data": {
            "text/html": [
              "<div>\n",
              "<style scoped>\n",
              "    .dataframe tbody tr th:only-of-type {\n",
              "        vertical-align: middle;\n",
              "    }\n",
              "\n",
              "    .dataframe tbody tr th {\n",
              "        vertical-align: top;\n",
              "    }\n",
              "\n",
              "    .dataframe thead th {\n",
              "        text-align: right;\n",
              "    }\n",
              "</style>\n",
              "<table border=\"1\" class=\"dataframe\">\n",
              "  <thead>\n",
              "    <tr style=\"text-align: right;\">\n",
              "      <th></th>\n",
              "      <th>date</th>\n",
              "      <th>from</th>\n",
              "      <th>to</th>\n",
              "      <th>subject</th>\n",
              "      <th>labels</th>\n",
              "    </tr>\n",
              "  </thead>\n",
              "  <tbody>\n",
              "    <tr>\n",
              "      <th>0</th>\n",
              "      <td>Mon, 12 Apr 2021 22:30:26 +0000 (UTC)</td>\n",
              "      <td>=?utf-8?q?Bea_G=C3=B3es?= &lt;contato@narratologi...</td>\n",
              "      <td>andremarinhom17@gmail.com</td>\n",
              "      <td>LIVE: Como monetizar a carreira de roteirista.</td>\n",
              "      <td>=?UTF-8?Q?Caixa_de_entrada,Categori?=\\r\\n =?UT...</td>\n",
              "    </tr>\n",
              "    <tr>\n",
              "      <th>1</th>\n",
              "      <td>Tue, 06 Apr 2021 11:11:15 -0600</td>\n",
              "      <td>\"Microsoft Bing\" &lt;hello@email3.bing.com&gt;</td>\n",
              "      <td>&lt;andremarinhom17@gmail.com&gt;</td>\n",
              "      <td>=?UTF-8?Q?Tend=C3=AAncias_nas_not=C3=ADcias:_v...</td>\n",
              "      <td>=?UTF-8?Q?Caixa_de_entrada,Categori?=\\r\\n =?UT...</td>\n",
              "    </tr>\n",
              "    <tr>\n",
              "      <th>2</th>\n",
              "      <td>Tue, 13 Apr 2021 15:02:24 +0000 (UTC)</td>\n",
              "      <td>=?utf-8?q?Bea_G=C3=B3es?= &lt;contato@narratologi...</td>\n",
              "      <td>andremarinhom17@gmail.com</td>\n",
              "      <td>Aulas =?UTF-8?B?R3LDoXRpcw==?= da Semana do Ro...</td>\n",
              "      <td>=?UTF-8?Q?Caixa_de_entrada,Categori?=\\r\\n =?UT...</td>\n",
              "    </tr>\n",
              "    <tr>\n",
              "      <th>3</th>\n",
              "      <td>Wed, 07 Apr 2021 22:30:52 +0000 (UTC)</td>\n",
              "      <td>=?utf-8?q?Bea_G=C3=B3es?= &lt;contato@narratologi...</td>\n",
              "      <td>andremarinhom17@gmail.com</td>\n",
              "      <td>Live - Os =?UTF-8?B?dHLDqnM=?= tipos de narrat...</td>\n",
              "      <td>=?UTF-8?Q?Caixa_de_entrada,Categori?=\\r\\n =?UT...</td>\n",
              "    </tr>\n",
              "    <tr>\n",
              "      <th>4</th>\n",
              "      <td>Sun, 4 Apr 2021 02:15:08 -0700</td>\n",
              "      <td>\"Facebook\" &lt;notification@facebookmail.com&gt;</td>\n",
              "      <td>Andre Marinho &lt;andremarinhom17@gmail.com&gt;</td>\n",
              "      <td>=?UTF-8?B?8J+OgiBNYXRoZXVzIEp1bmlv?=\\r\\n =?UTF...</td>\n",
              "      <td>=?UTF-8?Q?Caixa_de_entrada,Categoria:_redes_so...</td>\n",
              "    </tr>\n",
              "  </tbody>\n",
              "</table>\n",
              "</div>"
            ],
            "text/plain": [
              "                                    date  ...                                             labels\n",
              "0  Mon, 12 Apr 2021 22:30:26 +0000 (UTC)  ...  =?UTF-8?Q?Caixa_de_entrada,Categori?=\\r\\n =?UT...\n",
              "1        Tue, 06 Apr 2021 11:11:15 -0600  ...  =?UTF-8?Q?Caixa_de_entrada,Categori?=\\r\\n =?UT...\n",
              "2  Tue, 13 Apr 2021 15:02:24 +0000 (UTC)  ...  =?UTF-8?Q?Caixa_de_entrada,Categori?=\\r\\n =?UT...\n",
              "3  Wed, 07 Apr 2021 22:30:52 +0000 (UTC)  ...  =?UTF-8?Q?Caixa_de_entrada,Categori?=\\r\\n =?UT...\n",
              "4         Sun, 4 Apr 2021 02:15:08 -0700  ...  =?UTF-8?Q?Caixa_de_entrada,Categoria:_redes_so...\n",
              "\n",
              "[5 rows x 5 columns]"
            ]
          },
          "metadata": {
            "tags": []
          },
          "execution_count": 7
        }
      ]
    },
    {
      "cell_type": "code",
      "metadata": {
        "colab": {
          "base_uri": "https://localhost:8080/"
        },
        "id": "iu2xlvbCjTAJ",
        "outputId": "38185dcc-3878-4577-a4fe-fbda5bbad045"
      },
      "source": [
        "# verificação dos tipos\n",
        "df.dtypes"
      ],
      "execution_count": 8,
      "outputs": [
        {
          "output_type": "execute_result",
          "data": {
            "text/plain": [
              "date       object\n",
              "from       object\n",
              "to         object\n",
              "subject    object\n",
              "labels     object\n",
              "dtype: object"
            ]
          },
          "metadata": {
            "tags": []
          },
          "execution_count": 8
        }
      ]
    },
    {
      "cell_type": "markdown",
      "metadata": {
        "id": "LrxH9LI92Ps6"
      },
      "source": [
        "Ao verificar o tipo das variáveis, é possível perceber que é preciso trabalhar na coluna `date`. Essa coluna tem uma informação importante para a análise que é a data, mas está no formato `object`.\n",
        "\n",
        "Portanto, vou converter para o formato `datetime`. Entretanto, essa coluna traz informações de TimeZone e é preciso passar o parâmetro `utc=True`, para que a conversão possa ser feita corretamente."
      ]
    },
    {
      "cell_type": "code",
      "metadata": {
        "id": "Yq6QJkH9V67c"
      },
      "source": [
        "df = df[df['date'] != \"Sun, 14 Feb 2021 17:42:00 -0300 (GMT-03:00)\"]"
      ],
      "execution_count": 10,
      "outputs": []
    },
    {
      "cell_type": "code",
      "metadata": {
        "id": "PFFBRYxyVW-F"
      },
      "source": [
        "df['date'] = pd.to_datetime(df['date'], utc=True)"
      ],
      "execution_count": 11,
      "outputs": []
    },
    {
      "cell_type": "code",
      "metadata": {
        "colab": {
          "base_uri": "https://localhost:8080/",
          "height": 289
        },
        "id": "tcZ7EIjY5ECu",
        "outputId": "0895bd1c-02a1-43c5-9b89-8fab03e0db77"
      },
      "source": [
        "df.head()"
      ],
      "execution_count": 12,
      "outputs": [
        {
          "output_type": "execute_result",
          "data": {
            "text/html": [
              "<div>\n",
              "<style scoped>\n",
              "    .dataframe tbody tr th:only-of-type {\n",
              "        vertical-align: middle;\n",
              "    }\n",
              "\n",
              "    .dataframe tbody tr th {\n",
              "        vertical-align: top;\n",
              "    }\n",
              "\n",
              "    .dataframe thead th {\n",
              "        text-align: right;\n",
              "    }\n",
              "</style>\n",
              "<table border=\"1\" class=\"dataframe\">\n",
              "  <thead>\n",
              "    <tr style=\"text-align: right;\">\n",
              "      <th></th>\n",
              "      <th>date</th>\n",
              "      <th>from</th>\n",
              "      <th>to</th>\n",
              "      <th>subject</th>\n",
              "      <th>labels</th>\n",
              "    </tr>\n",
              "  </thead>\n",
              "  <tbody>\n",
              "    <tr>\n",
              "      <th>0</th>\n",
              "      <td>2021-04-12 22:30:26+00:00</td>\n",
              "      <td>=?utf-8?q?Bea_G=C3=B3es?= &lt;contato@narratologi...</td>\n",
              "      <td>andremarinhom17@gmail.com</td>\n",
              "      <td>LIVE: Como monetizar a carreira de roteirista.</td>\n",
              "      <td>=?UTF-8?Q?Caixa_de_entrada,Categori?=\\r\\n =?UT...</td>\n",
              "    </tr>\n",
              "    <tr>\n",
              "      <th>1</th>\n",
              "      <td>2021-04-06 17:11:15+00:00</td>\n",
              "      <td>\"Microsoft Bing\" &lt;hello@email3.bing.com&gt;</td>\n",
              "      <td>&lt;andremarinhom17@gmail.com&gt;</td>\n",
              "      <td>=?UTF-8?Q?Tend=C3=AAncias_nas_not=C3=ADcias:_v...</td>\n",
              "      <td>=?UTF-8?Q?Caixa_de_entrada,Categori?=\\r\\n =?UT...</td>\n",
              "    </tr>\n",
              "    <tr>\n",
              "      <th>2</th>\n",
              "      <td>2021-04-13 15:02:24+00:00</td>\n",
              "      <td>=?utf-8?q?Bea_G=C3=B3es?= &lt;contato@narratologi...</td>\n",
              "      <td>andremarinhom17@gmail.com</td>\n",
              "      <td>Aulas =?UTF-8?B?R3LDoXRpcw==?= da Semana do Ro...</td>\n",
              "      <td>=?UTF-8?Q?Caixa_de_entrada,Categori?=\\r\\n =?UT...</td>\n",
              "    </tr>\n",
              "    <tr>\n",
              "      <th>3</th>\n",
              "      <td>2021-04-07 22:30:52+00:00</td>\n",
              "      <td>=?utf-8?q?Bea_G=C3=B3es?= &lt;contato@narratologi...</td>\n",
              "      <td>andremarinhom17@gmail.com</td>\n",
              "      <td>Live - Os =?UTF-8?B?dHLDqnM=?= tipos de narrat...</td>\n",
              "      <td>=?UTF-8?Q?Caixa_de_entrada,Categori?=\\r\\n =?UT...</td>\n",
              "    </tr>\n",
              "    <tr>\n",
              "      <th>4</th>\n",
              "      <td>2021-04-04 09:15:08+00:00</td>\n",
              "      <td>\"Facebook\" &lt;notification@facebookmail.com&gt;</td>\n",
              "      <td>Andre Marinho &lt;andremarinhom17@gmail.com&gt;</td>\n",
              "      <td>=?UTF-8?B?8J+OgiBNYXRoZXVzIEp1bmlv?=\\r\\n =?UTF...</td>\n",
              "      <td>=?UTF-8?Q?Caixa_de_entrada,Categoria:_redes_so...</td>\n",
              "    </tr>\n",
              "  </tbody>\n",
              "</table>\n",
              "</div>"
            ],
            "text/plain": [
              "                       date  ...                                             labels\n",
              "0 2021-04-12 22:30:26+00:00  ...  =?UTF-8?Q?Caixa_de_entrada,Categori?=\\r\\n =?UT...\n",
              "1 2021-04-06 17:11:15+00:00  ...  =?UTF-8?Q?Caixa_de_entrada,Categori?=\\r\\n =?UT...\n",
              "2 2021-04-13 15:02:24+00:00  ...  =?UTF-8?Q?Caixa_de_entrada,Categori?=\\r\\n =?UT...\n",
              "3 2021-04-07 22:30:52+00:00  ...  =?UTF-8?Q?Caixa_de_entrada,Categori?=\\r\\n =?UT...\n",
              "4 2021-04-04 09:15:08+00:00  ...  =?UTF-8?Q?Caixa_de_entrada,Categoria:_redes_so...\n",
              "\n",
              "[5 rows x 5 columns]"
            ]
          },
          "metadata": {
            "tags": []
          },
          "execution_count": 12
        }
      ]
    },
    {
      "cell_type": "markdown",
      "metadata": {
        "id": "N5Fkg_Re7D26"
      },
      "source": [
        "Ainda é necessário converter a data para o timezone em que estou localizado. Para isso, vou aplicar uma função lambda com o uso do método timezone da biblioteca `pytz`."
      ]
    },
    {
      "cell_type": "code",
      "metadata": {
        "id": "91swcNZnmI50"
      },
      "source": [
        "df['date'] = df['date'].apply(lambda x: x.astimezone(pytz.timezone(\"America/Sao_Paulo\")))"
      ],
      "execution_count": 13,
      "outputs": []
    },
    {
      "cell_type": "code",
      "metadata": {
        "id": "2VaQn14c7tU1",
        "colab": {
          "base_uri": "https://localhost:8080/",
          "height": 289
        },
        "outputId": "fc0d0cac-666d-4b17-93d3-0993141cdfc7"
      },
      "source": [
        "df.head()"
      ],
      "execution_count": 14,
      "outputs": [
        {
          "output_type": "execute_result",
          "data": {
            "text/html": [
              "<div>\n",
              "<style scoped>\n",
              "    .dataframe tbody tr th:only-of-type {\n",
              "        vertical-align: middle;\n",
              "    }\n",
              "\n",
              "    .dataframe tbody tr th {\n",
              "        vertical-align: top;\n",
              "    }\n",
              "\n",
              "    .dataframe thead th {\n",
              "        text-align: right;\n",
              "    }\n",
              "</style>\n",
              "<table border=\"1\" class=\"dataframe\">\n",
              "  <thead>\n",
              "    <tr style=\"text-align: right;\">\n",
              "      <th></th>\n",
              "      <th>date</th>\n",
              "      <th>from</th>\n",
              "      <th>to</th>\n",
              "      <th>subject</th>\n",
              "      <th>labels</th>\n",
              "    </tr>\n",
              "  </thead>\n",
              "  <tbody>\n",
              "    <tr>\n",
              "      <th>0</th>\n",
              "      <td>2021-04-12 19:30:26-03:00</td>\n",
              "      <td>=?utf-8?q?Bea_G=C3=B3es?= &lt;contato@narratologi...</td>\n",
              "      <td>andremarinhom17@gmail.com</td>\n",
              "      <td>LIVE: Como monetizar a carreira de roteirista.</td>\n",
              "      <td>=?UTF-8?Q?Caixa_de_entrada,Categori?=\\r\\n =?UT...</td>\n",
              "    </tr>\n",
              "    <tr>\n",
              "      <th>1</th>\n",
              "      <td>2021-04-06 14:11:15-03:00</td>\n",
              "      <td>\"Microsoft Bing\" &lt;hello@email3.bing.com&gt;</td>\n",
              "      <td>&lt;andremarinhom17@gmail.com&gt;</td>\n",
              "      <td>=?UTF-8?Q?Tend=C3=AAncias_nas_not=C3=ADcias:_v...</td>\n",
              "      <td>=?UTF-8?Q?Caixa_de_entrada,Categori?=\\r\\n =?UT...</td>\n",
              "    </tr>\n",
              "    <tr>\n",
              "      <th>2</th>\n",
              "      <td>2021-04-13 12:02:24-03:00</td>\n",
              "      <td>=?utf-8?q?Bea_G=C3=B3es?= &lt;contato@narratologi...</td>\n",
              "      <td>andremarinhom17@gmail.com</td>\n",
              "      <td>Aulas =?UTF-8?B?R3LDoXRpcw==?= da Semana do Ro...</td>\n",
              "      <td>=?UTF-8?Q?Caixa_de_entrada,Categori?=\\r\\n =?UT...</td>\n",
              "    </tr>\n",
              "    <tr>\n",
              "      <th>3</th>\n",
              "      <td>2021-04-07 19:30:52-03:00</td>\n",
              "      <td>=?utf-8?q?Bea_G=C3=B3es?= &lt;contato@narratologi...</td>\n",
              "      <td>andremarinhom17@gmail.com</td>\n",
              "      <td>Live - Os =?UTF-8?B?dHLDqnM=?= tipos de narrat...</td>\n",
              "      <td>=?UTF-8?Q?Caixa_de_entrada,Categori?=\\r\\n =?UT...</td>\n",
              "    </tr>\n",
              "    <tr>\n",
              "      <th>4</th>\n",
              "      <td>2021-04-04 06:15:08-03:00</td>\n",
              "      <td>\"Facebook\" &lt;notification@facebookmail.com&gt;</td>\n",
              "      <td>Andre Marinho &lt;andremarinhom17@gmail.com&gt;</td>\n",
              "      <td>=?UTF-8?B?8J+OgiBNYXRoZXVzIEp1bmlv?=\\r\\n =?UTF...</td>\n",
              "      <td>=?UTF-8?Q?Caixa_de_entrada,Categoria:_redes_so...</td>\n",
              "    </tr>\n",
              "  </tbody>\n",
              "</table>\n",
              "</div>"
            ],
            "text/plain": [
              "                       date  ...                                             labels\n",
              "0 2021-04-12 19:30:26-03:00  ...  =?UTF-8?Q?Caixa_de_entrada,Categori?=\\r\\n =?UT...\n",
              "1 2021-04-06 14:11:15-03:00  ...  =?UTF-8?Q?Caixa_de_entrada,Categori?=\\r\\n =?UT...\n",
              "2 2021-04-13 12:02:24-03:00  ...  =?UTF-8?Q?Caixa_de_entrada,Categori?=\\r\\n =?UT...\n",
              "3 2021-04-07 19:30:52-03:00  ...  =?UTF-8?Q?Caixa_de_entrada,Categori?=\\r\\n =?UT...\n",
              "4 2021-04-04 06:15:08-03:00  ...  =?UTF-8?Q?Caixa_de_entrada,Categoria:_redes_so...\n",
              "\n",
              "[5 rows x 5 columns]"
            ]
          },
          "metadata": {
            "tags": []
          },
          "execution_count": 14
        }
      ]
    },
    {
      "cell_type": "markdown",
      "metadata": {
        "id": "97FWbIso8bme"
      },
      "source": [
        "Com os dados nos formatos e tipos necessários, vou continuar a limpeza de dados.\n",
        "\n",
        "Abaixo, vou conferir a quantidade de dados faltantes."
      ]
    },
    {
      "cell_type": "code",
      "metadata": {
        "colab": {
          "base_uri": "https://localhost:8080/"
        },
        "id": "87wD7obc87_u",
        "outputId": "ff19806a-c999-4a51-a5ce-1be6822173f5"
      },
      "source": [
        "df.isnull().sum()"
      ],
      "execution_count": 15,
      "outputs": [
        {
          "output_type": "execute_result",
          "data": {
            "text/plain": [
              "date       0\n",
              "from       0\n",
              "to         0\n",
              "subject    0\n",
              "labels     0\n",
              "dtype: int64"
            ]
          },
          "metadata": {
            "tags": []
          },
          "execution_count": 15
        }
      ]
    },
    {
      "cell_type": "markdown",
      "metadata": {
        "id": "oiGu6IM_9-mC"
      },
      "source": [
        "Não há valores ausentes, então prossigamos com a limpeza!"
      ]
    },
    {
      "cell_type": "code",
      "metadata": {
        "id": "SeLyqHenbz0x"
      },
      "source": [
        "df = df[df['from'].str.contains('utf-8') == False]"
      ],
      "execution_count": 16,
      "outputs": []
    },
    {
      "cell_type": "markdown",
      "metadata": {
        "id": "STITjJ8V-RZ6"
      },
      "source": [
        "## Limpeza de String"
      ]
    },
    {
      "cell_type": "markdown",
      "metadata": {
        "id": "J_0nl8iH9CPn"
      },
      "source": [
        "Ao verificar os dados acima, consigo perceber que há entradas bem confusas e que são importantes para as análises. Por isso, é importante fazer a limpeza dessas entradas por meio da manipulação de strings.\n",
        "\n",
        "<center><img width=\"50%\" src=\"https://image.freepik.com/free-photo/housekeeping-concept-with-hand-holding-cloth_23-2147699396.jpg\"></center>\n",
        "\n",
        "A primeira coisa que irei fazer é limpar os e-mails, tanto de emissor e receptor, removendo tudo aquilo que não faz parte do endereço de e-mail."
      ]
    },
    {
      "cell_type": "code",
      "metadata": {
        "id": "FDo7OY_d941p"
      },
      "source": [
        "# criando a função\n",
        "def extrair_email(string_email):\n",
        "    email = re.findall(r'<(.+?)>', string_email)\n",
        "    if email:\n",
        "        return email[0]\n",
        "    else:\n",
        "        return string_email"
      ],
      "execution_count": 17,
      "outputs": []
    },
    {
      "cell_type": "code",
      "metadata": {
        "id": "1RujBNj1_BzR"
      },
      "source": [
        "# aplicando a função\n",
        "\n",
        "df['to'] = df['to'].apply(extrair_email)\n",
        "df['from'] = df['from'].apply(extrair_email)"
      ],
      "execution_count": 18,
      "outputs": []
    },
    {
      "cell_type": "code",
      "metadata": {
        "colab": {
          "base_uri": "https://localhost:8080/",
          "height": 289
        },
        "id": "SNrX-eTO_M9j",
        "outputId": "1dad7dcd-7bde-473d-d871-ae72e56cc57c"
      },
      "source": [
        "# verificando os resultados\n",
        "df.head()"
      ],
      "execution_count": 19,
      "outputs": [
        {
          "output_type": "execute_result",
          "data": {
            "text/html": [
              "<div>\n",
              "<style scoped>\n",
              "    .dataframe tbody tr th:only-of-type {\n",
              "        vertical-align: middle;\n",
              "    }\n",
              "\n",
              "    .dataframe tbody tr th {\n",
              "        vertical-align: top;\n",
              "    }\n",
              "\n",
              "    .dataframe thead th {\n",
              "        text-align: right;\n",
              "    }\n",
              "</style>\n",
              "<table border=\"1\" class=\"dataframe\">\n",
              "  <thead>\n",
              "    <tr style=\"text-align: right;\">\n",
              "      <th></th>\n",
              "      <th>date</th>\n",
              "      <th>from</th>\n",
              "      <th>to</th>\n",
              "      <th>subject</th>\n",
              "      <th>labels</th>\n",
              "    </tr>\n",
              "  </thead>\n",
              "  <tbody>\n",
              "    <tr>\n",
              "      <th>1</th>\n",
              "      <td>2021-04-06 14:11:15-03:00</td>\n",
              "      <td>hello@email3.bing.com</td>\n",
              "      <td>andremarinhom17@gmail.com</td>\n",
              "      <td>=?UTF-8?Q?Tend=C3=AAncias_nas_not=C3=ADcias:_v...</td>\n",
              "      <td>=?UTF-8?Q?Caixa_de_entrada,Categori?=\\r\\n =?UT...</td>\n",
              "    </tr>\n",
              "    <tr>\n",
              "      <th>4</th>\n",
              "      <td>2021-04-04 06:15:08-03:00</td>\n",
              "      <td>notification@facebookmail.com</td>\n",
              "      <td>andremarinhom17@gmail.com</td>\n",
              "      <td>=?UTF-8?B?8J+OgiBNYXRoZXVzIEp1bmlv?=\\r\\n =?UTF...</td>\n",
              "      <td>=?UTF-8?Q?Caixa_de_entrada,Categoria:_redes_so...</td>\n",
              "    </tr>\n",
              "    <tr>\n",
              "      <th>5</th>\n",
              "      <td>2021-03-26 21:19:18-03:00</td>\n",
              "      <td>info@twitter.com</td>\n",
              "      <td>andremarinhom17@gmail.com</td>\n",
              "      <td>=?UTF-8?Q?Let=C3=ADcia_Alves_em_=F0=9F=8F=A1_c...</td>\n",
              "      <td>=?UTF-8?Q?Caixa_de_entrada,Categoria:_redes_so...</td>\n",
              "    </tr>\n",
              "    <tr>\n",
              "      <th>6</th>\n",
              "      <td>2021-04-16 10:13:48-03:00</td>\n",
              "      <td>robot@letterboxd.com</td>\n",
              "      <td>andremarinhom17@gmail.com</td>\n",
              "      <td>Letterboxd Rushes for humor</td>\n",
              "      <td>=?UTF-8?Q?Caixa_de_entrada,Categoria:_promo=C3...</td>\n",
              "    </tr>\n",
              "    <tr>\n",
              "      <th>8</th>\n",
              "      <td>2021-03-31 06:38:46-03:00</td>\n",
              "      <td>notification@facebookmail.com</td>\n",
              "      <td>andremarinhom17@gmail.com</td>\n",
              "      <td>=?UTF-8?B?8J+OgiBHYWJyaWVsbGUgTnVu?=\\r\\n =?UTF...</td>\n",
              "      <td>=?UTF-8?Q?Caixa_de_entrada,Categoria:_redes_so...</td>\n",
              "    </tr>\n",
              "  </tbody>\n",
              "</table>\n",
              "</div>"
            ],
            "text/plain": [
              "                       date  ...                                             labels\n",
              "1 2021-04-06 14:11:15-03:00  ...  =?UTF-8?Q?Caixa_de_entrada,Categori?=\\r\\n =?UT...\n",
              "4 2021-04-04 06:15:08-03:00  ...  =?UTF-8?Q?Caixa_de_entrada,Categoria:_redes_so...\n",
              "5 2021-03-26 21:19:18-03:00  ...  =?UTF-8?Q?Caixa_de_entrada,Categoria:_redes_so...\n",
              "6 2021-04-16 10:13:48-03:00  ...  =?UTF-8?Q?Caixa_de_entrada,Categoria:_promo=C3...\n",
              "8 2021-03-31 06:38:46-03:00  ...  =?UTF-8?Q?Caixa_de_entrada,Categoria:_redes_so...\n",
              "\n",
              "[5 rows x 5 columns]"
            ]
          },
          "metadata": {
            "tags": []
          },
          "execution_count": 19
        }
      ]
    },
    {
      "cell_type": "markdown",
      "metadata": {
        "id": "YyI1WO47fKRn"
      },
      "source": [
        "Agora, irei fazer um processo parecido para a coluna label, extraindo apenas o primeiro item, que é o mais importante para a análise."
      ]
    },
    {
      "cell_type": "code",
      "metadata": {
        "id": "mm5YomrDfNV-"
      },
      "source": [
        "# criando a função\n",
        "def extrair_label(string_labels):\n",
        "  return string_labels.replace(\"=?UTF-8?Q?\", \"\").split(\",\")[0]"
      ],
      "execution_count": 20,
      "outputs": []
    },
    {
      "cell_type": "code",
      "metadata": {
        "id": "zX-Py23tfcEd"
      },
      "source": [
        "# aplicando a função\n",
        "df[\"labels\"] = df[\"labels\"].apply(extrair_label)"
      ],
      "execution_count": 21,
      "outputs": []
    },
    {
      "cell_type": "code",
      "metadata": {
        "colab": {
          "base_uri": "https://localhost:8080/",
          "height": 204
        },
        "id": "qnsVk-I8fgou",
        "outputId": "beca7ebb-eb1e-4c78-f9ee-bb6d048e5e9c"
      },
      "source": [
        "# verificando os resultados\n",
        "df.head()"
      ],
      "execution_count": 22,
      "outputs": [
        {
          "output_type": "execute_result",
          "data": {
            "text/html": [
              "<div>\n",
              "<style scoped>\n",
              "    .dataframe tbody tr th:only-of-type {\n",
              "        vertical-align: middle;\n",
              "    }\n",
              "\n",
              "    .dataframe tbody tr th {\n",
              "        vertical-align: top;\n",
              "    }\n",
              "\n",
              "    .dataframe thead th {\n",
              "        text-align: right;\n",
              "    }\n",
              "</style>\n",
              "<table border=\"1\" class=\"dataframe\">\n",
              "  <thead>\n",
              "    <tr style=\"text-align: right;\">\n",
              "      <th></th>\n",
              "      <th>date</th>\n",
              "      <th>from</th>\n",
              "      <th>to</th>\n",
              "      <th>subject</th>\n",
              "      <th>labels</th>\n",
              "    </tr>\n",
              "  </thead>\n",
              "  <tbody>\n",
              "    <tr>\n",
              "      <th>1</th>\n",
              "      <td>2021-04-06 14:11:15-03:00</td>\n",
              "      <td>hello@email3.bing.com</td>\n",
              "      <td>andremarinhom17@gmail.com</td>\n",
              "      <td>=?UTF-8?Q?Tend=C3=AAncias_nas_not=C3=ADcias:_v...</td>\n",
              "      <td>Caixa_de_entrada</td>\n",
              "    </tr>\n",
              "    <tr>\n",
              "      <th>4</th>\n",
              "      <td>2021-04-04 06:15:08-03:00</td>\n",
              "      <td>notification@facebookmail.com</td>\n",
              "      <td>andremarinhom17@gmail.com</td>\n",
              "      <td>=?UTF-8?B?8J+OgiBNYXRoZXVzIEp1bmlv?=\\r\\n =?UTF...</td>\n",
              "      <td>Caixa_de_entrada</td>\n",
              "    </tr>\n",
              "    <tr>\n",
              "      <th>5</th>\n",
              "      <td>2021-03-26 21:19:18-03:00</td>\n",
              "      <td>info@twitter.com</td>\n",
              "      <td>andremarinhom17@gmail.com</td>\n",
              "      <td>=?UTF-8?Q?Let=C3=ADcia_Alves_em_=F0=9F=8F=A1_c...</td>\n",
              "      <td>Caixa_de_entrada</td>\n",
              "    </tr>\n",
              "    <tr>\n",
              "      <th>6</th>\n",
              "      <td>2021-04-16 10:13:48-03:00</td>\n",
              "      <td>robot@letterboxd.com</td>\n",
              "      <td>andremarinhom17@gmail.com</td>\n",
              "      <td>Letterboxd Rushes for humor</td>\n",
              "      <td>Caixa_de_entrada</td>\n",
              "    </tr>\n",
              "    <tr>\n",
              "      <th>8</th>\n",
              "      <td>2021-03-31 06:38:46-03:00</td>\n",
              "      <td>notification@facebookmail.com</td>\n",
              "      <td>andremarinhom17@gmail.com</td>\n",
              "      <td>=?UTF-8?B?8J+OgiBHYWJyaWVsbGUgTnVu?=\\r\\n =?UTF...</td>\n",
              "      <td>Caixa_de_entrada</td>\n",
              "    </tr>\n",
              "  </tbody>\n",
              "</table>\n",
              "</div>"
            ],
            "text/plain": [
              "                       date  ...            labels\n",
              "1 2021-04-06 14:11:15-03:00  ...  Caixa_de_entrada\n",
              "4 2021-04-04 06:15:08-03:00  ...  Caixa_de_entrada\n",
              "5 2021-03-26 21:19:18-03:00  ...  Caixa_de_entrada\n",
              "6 2021-04-16 10:13:48-03:00  ...  Caixa_de_entrada\n",
              "8 2021-03-31 06:38:46-03:00  ...  Caixa_de_entrada\n",
              "\n",
              "[5 rows x 5 columns]"
            ]
          },
          "metadata": {
            "tags": []
          },
          "execution_count": 22
        }
      ]
    },
    {
      "cell_type": "markdown",
      "metadata": {
        "id": "-s9U7v_igccS"
      },
      "source": [
        "## Análise Exploratória"
      ]
    },
    {
      "cell_type": "markdown",
      "metadata": {
        "id": "rcodFBA0-7yC"
      },
      "source": [
        "Agora que os dados foram adquiridos, carregado e limpos, eles estão prontos para serem analisados!\n",
        "\n",
        "<center><img width=\"50%\" src=\"https://image.freepik.com/free-photo/business-presentation-laptop-screen_53876-13516.jpg\"></center>\n",
        "\n",
        "A parte que mais demanda tempo e atenção é a análise exploratória, pois é a partir dela que é possível transformar os dados em informação e encontrar conhecimento relevante para a análise.\n",
        "\n",
        "A primeira análise que farei é em relação aos emails que me enviam. "
      ]
    },
    {
      "cell_type": "markdown",
      "metadata": {
        "id": "WsXGhqLNBBRc"
      },
      "source": [
        "###Qual foi o endereço que mais me enviou e-mails?"
      ]
    },
    {
      "cell_type": "code",
      "metadata": {
        "colab": {
          "base_uri": "https://localhost:8080/"
        },
        "id": "sJHb0X4WgizT",
        "outputId": "3ec19975-c9e4-47ff-81b7-56fc7b94226c"
      },
      "source": [
        "df[df['labels'] == \"Caixa_de_entrada\"][\"from\"].value_counts()[0:5]"
      ],
      "execution_count": 23,
      "outputs": [
        {
          "output_type": "execute_result",
          "data": {
            "text/plain": [
              "notification+kr4mwbrybkax@facebookmail.com          4168\n",
              "notification@facebookmail.com                       1611\n",
              "update+kr4mwbrybkax@facebookmail.com                1454\n",
              "info@twitter.com                                     449\n",
              "notification+kr4mwbrybkax@pages.facebookmail.com     187\n",
              "Name: from, dtype: int64"
            ]
          },
          "metadata": {
            "tags": []
          },
          "execution_count": 23
        }
      ]
    },
    {
      "cell_type": "markdown",
      "metadata": {
        "id": "Uv62uKq0Bk-s"
      },
      "source": [
        "De acordo com os dados, recebo mais emails de notificações do Facebook, seguido do Twitter.\n",
        "\n",
        "Outro insight interessante é descobrir que dia da semana a recebo mais e-mail.\n"
      ]
    },
    {
      "cell_type": "markdown",
      "metadata": {
        "id": "vAuLT7-cB962"
      },
      "source": [
        "### Qual dia da semana recebo mais e-mails?"
      ]
    },
    {
      "cell_type": "markdown",
      "metadata": {
        "id": "ekXxIsrlCCqZ"
      },
      "source": [
        "Usando Python e Pandas, vou criar uma nova coluna, que indica em que dia da semana cada e-mail foi enviado."
      ]
    },
    {
      "cell_type": "code",
      "metadata": {
        "colab": {
          "base_uri": "https://localhost:8080/",
          "height": 204
        },
        "id": "s3xLKVJhfoR-",
        "outputId": "7a43b258-adfb-49e1-9b22-863dec242823"
      },
      "source": [
        "df.head()"
      ],
      "execution_count": 24,
      "outputs": [
        {
          "output_type": "execute_result",
          "data": {
            "text/html": [
              "<div>\n",
              "<style scoped>\n",
              "    .dataframe tbody tr th:only-of-type {\n",
              "        vertical-align: middle;\n",
              "    }\n",
              "\n",
              "    .dataframe tbody tr th {\n",
              "        vertical-align: top;\n",
              "    }\n",
              "\n",
              "    .dataframe thead th {\n",
              "        text-align: right;\n",
              "    }\n",
              "</style>\n",
              "<table border=\"1\" class=\"dataframe\">\n",
              "  <thead>\n",
              "    <tr style=\"text-align: right;\">\n",
              "      <th></th>\n",
              "      <th>date</th>\n",
              "      <th>from</th>\n",
              "      <th>to</th>\n",
              "      <th>subject</th>\n",
              "      <th>labels</th>\n",
              "    </tr>\n",
              "  </thead>\n",
              "  <tbody>\n",
              "    <tr>\n",
              "      <th>1</th>\n",
              "      <td>2021-04-06 14:11:15-03:00</td>\n",
              "      <td>hello@email3.bing.com</td>\n",
              "      <td>andremarinhom17@gmail.com</td>\n",
              "      <td>=?UTF-8?Q?Tend=C3=AAncias_nas_not=C3=ADcias:_v...</td>\n",
              "      <td>Caixa_de_entrada</td>\n",
              "    </tr>\n",
              "    <tr>\n",
              "      <th>4</th>\n",
              "      <td>2021-04-04 06:15:08-03:00</td>\n",
              "      <td>notification@facebookmail.com</td>\n",
              "      <td>andremarinhom17@gmail.com</td>\n",
              "      <td>=?UTF-8?B?8J+OgiBNYXRoZXVzIEp1bmlv?=\\r\\n =?UTF...</td>\n",
              "      <td>Caixa_de_entrada</td>\n",
              "    </tr>\n",
              "    <tr>\n",
              "      <th>5</th>\n",
              "      <td>2021-03-26 21:19:18-03:00</td>\n",
              "      <td>info@twitter.com</td>\n",
              "      <td>andremarinhom17@gmail.com</td>\n",
              "      <td>=?UTF-8?Q?Let=C3=ADcia_Alves_em_=F0=9F=8F=A1_c...</td>\n",
              "      <td>Caixa_de_entrada</td>\n",
              "    </tr>\n",
              "    <tr>\n",
              "      <th>6</th>\n",
              "      <td>2021-04-16 10:13:48-03:00</td>\n",
              "      <td>robot@letterboxd.com</td>\n",
              "      <td>andremarinhom17@gmail.com</td>\n",
              "      <td>Letterboxd Rushes for humor</td>\n",
              "      <td>Caixa_de_entrada</td>\n",
              "    </tr>\n",
              "    <tr>\n",
              "      <th>8</th>\n",
              "      <td>2021-03-31 06:38:46-03:00</td>\n",
              "      <td>notification@facebookmail.com</td>\n",
              "      <td>andremarinhom17@gmail.com</td>\n",
              "      <td>=?UTF-8?B?8J+OgiBHYWJyaWVsbGUgTnVu?=\\r\\n =?UTF...</td>\n",
              "      <td>Caixa_de_entrada</td>\n",
              "    </tr>\n",
              "  </tbody>\n",
              "</table>\n",
              "</div>"
            ],
            "text/plain": [
              "                       date  ...            labels\n",
              "1 2021-04-06 14:11:15-03:00  ...  Caixa_de_entrada\n",
              "4 2021-04-04 06:15:08-03:00  ...  Caixa_de_entrada\n",
              "5 2021-03-26 21:19:18-03:00  ...  Caixa_de_entrada\n",
              "6 2021-04-16 10:13:48-03:00  ...  Caixa_de_entrada\n",
              "8 2021-03-31 06:38:46-03:00  ...  Caixa_de_entrada\n",
              "\n",
              "[5 rows x 5 columns]"
            ]
          },
          "metadata": {
            "tags": []
          },
          "execution_count": 24
        }
      ]
    },
    {
      "cell_type": "code",
      "metadata": {
        "id": "uP1w1Dw8gmYe"
      },
      "source": [
        "# criando a variável para o dia da semana\n",
        "df[\"weekday\"] = df[\"date\"].dt.weekday"
      ],
      "execution_count": 25,
      "outputs": []
    },
    {
      "cell_type": "code",
      "metadata": {
        "colab": {
          "base_uri": "https://localhost:8080/",
          "height": 204
        },
        "id": "LwS_tyIshsCB",
        "outputId": "23f15bba-90de-40b7-c17e-ea5db16b6dd1"
      },
      "source": [
        "# verificando o resultado\n",
        "df.head()"
      ],
      "execution_count": 26,
      "outputs": [
        {
          "output_type": "execute_result",
          "data": {
            "text/html": [
              "<div>\n",
              "<style scoped>\n",
              "    .dataframe tbody tr th:only-of-type {\n",
              "        vertical-align: middle;\n",
              "    }\n",
              "\n",
              "    .dataframe tbody tr th {\n",
              "        vertical-align: top;\n",
              "    }\n",
              "\n",
              "    .dataframe thead th {\n",
              "        text-align: right;\n",
              "    }\n",
              "</style>\n",
              "<table border=\"1\" class=\"dataframe\">\n",
              "  <thead>\n",
              "    <tr style=\"text-align: right;\">\n",
              "      <th></th>\n",
              "      <th>date</th>\n",
              "      <th>from</th>\n",
              "      <th>to</th>\n",
              "      <th>subject</th>\n",
              "      <th>labels</th>\n",
              "      <th>weekday</th>\n",
              "    </tr>\n",
              "  </thead>\n",
              "  <tbody>\n",
              "    <tr>\n",
              "      <th>1</th>\n",
              "      <td>2021-04-06 14:11:15-03:00</td>\n",
              "      <td>hello@email3.bing.com</td>\n",
              "      <td>andremarinhom17@gmail.com</td>\n",
              "      <td>=?UTF-8?Q?Tend=C3=AAncias_nas_not=C3=ADcias:_v...</td>\n",
              "      <td>Caixa_de_entrada</td>\n",
              "      <td>1</td>\n",
              "    </tr>\n",
              "    <tr>\n",
              "      <th>4</th>\n",
              "      <td>2021-04-04 06:15:08-03:00</td>\n",
              "      <td>notification@facebookmail.com</td>\n",
              "      <td>andremarinhom17@gmail.com</td>\n",
              "      <td>=?UTF-8?B?8J+OgiBNYXRoZXVzIEp1bmlv?=\\r\\n =?UTF...</td>\n",
              "      <td>Caixa_de_entrada</td>\n",
              "      <td>6</td>\n",
              "    </tr>\n",
              "    <tr>\n",
              "      <th>5</th>\n",
              "      <td>2021-03-26 21:19:18-03:00</td>\n",
              "      <td>info@twitter.com</td>\n",
              "      <td>andremarinhom17@gmail.com</td>\n",
              "      <td>=?UTF-8?Q?Let=C3=ADcia_Alves_em_=F0=9F=8F=A1_c...</td>\n",
              "      <td>Caixa_de_entrada</td>\n",
              "      <td>4</td>\n",
              "    </tr>\n",
              "    <tr>\n",
              "      <th>6</th>\n",
              "      <td>2021-04-16 10:13:48-03:00</td>\n",
              "      <td>robot@letterboxd.com</td>\n",
              "      <td>andremarinhom17@gmail.com</td>\n",
              "      <td>Letterboxd Rushes for humor</td>\n",
              "      <td>Caixa_de_entrada</td>\n",
              "      <td>4</td>\n",
              "    </tr>\n",
              "    <tr>\n",
              "      <th>8</th>\n",
              "      <td>2021-03-31 06:38:46-03:00</td>\n",
              "      <td>notification@facebookmail.com</td>\n",
              "      <td>andremarinhom17@gmail.com</td>\n",
              "      <td>=?UTF-8?B?8J+OgiBHYWJyaWVsbGUgTnVu?=\\r\\n =?UTF...</td>\n",
              "      <td>Caixa_de_entrada</td>\n",
              "      <td>2</td>\n",
              "    </tr>\n",
              "  </tbody>\n",
              "</table>\n",
              "</div>"
            ],
            "text/plain": [
              "                       date  ... weekday\n",
              "1 2021-04-06 14:11:15-03:00  ...       1\n",
              "4 2021-04-04 06:15:08-03:00  ...       6\n",
              "5 2021-03-26 21:19:18-03:00  ...       4\n",
              "6 2021-04-16 10:13:48-03:00  ...       4\n",
              "8 2021-03-31 06:38:46-03:00  ...       2\n",
              "\n",
              "[5 rows x 6 columns]"
            ]
          },
          "metadata": {
            "tags": []
          },
          "execution_count": 26
        }
      ]
    },
    {
      "cell_type": "markdown",
      "metadata": {
        "id": "1Sknns0_CWvG"
      },
      "source": [
        "Com a coluna criada, vou transformar esses números em uma informação mais fácil de digerir e interpretar.\n",
        "\n",
        "A transformação que fiz retorna Segunda-Feira como o primeiro dia, portanto, o dia associado ao valor `0`, é Segunda-Feira, e assim sucessivamente.\n",
        "\n",
        "Vou criar um dicionário, onde associarei para as chaves, valores em formato de string para os dias da semana, e transformar a coluna com esse dicionário."
      ]
    },
    {
      "cell_type": "code",
      "metadata": {
        "id": "In-aA0xZilYd"
      },
      "source": [
        "# criando dicionário\n",
        "dias_semana = {0:\"Segunda\", 1:\"Terça\", 2:\"Quarta\", 3:\"Quinta\", 4:\"Sexta\", 5:\"Sábado\", 6:\"Domingo\"}\n",
        "\n",
        "# transformando a coluna\n",
        "df['weekday'] = df['weekday'].replace(dias_semana)"
      ],
      "execution_count": 27,
      "outputs": []
    },
    {
      "cell_type": "code",
      "metadata": {
        "colab": {
          "base_uri": "https://localhost:8080/",
          "height": 204
        },
        "id": "Ijx8IrF7jCUO",
        "outputId": "6e93022b-83a9-4631-bfee-bc3cfcf3e39f"
      },
      "source": [
        "# verificando o resultado\n",
        "df.head()"
      ],
      "execution_count": 28,
      "outputs": [
        {
          "output_type": "execute_result",
          "data": {
            "text/html": [
              "<div>\n",
              "<style scoped>\n",
              "    .dataframe tbody tr th:only-of-type {\n",
              "        vertical-align: middle;\n",
              "    }\n",
              "\n",
              "    .dataframe tbody tr th {\n",
              "        vertical-align: top;\n",
              "    }\n",
              "\n",
              "    .dataframe thead th {\n",
              "        text-align: right;\n",
              "    }\n",
              "</style>\n",
              "<table border=\"1\" class=\"dataframe\">\n",
              "  <thead>\n",
              "    <tr style=\"text-align: right;\">\n",
              "      <th></th>\n",
              "      <th>date</th>\n",
              "      <th>from</th>\n",
              "      <th>to</th>\n",
              "      <th>subject</th>\n",
              "      <th>labels</th>\n",
              "      <th>weekday</th>\n",
              "    </tr>\n",
              "  </thead>\n",
              "  <tbody>\n",
              "    <tr>\n",
              "      <th>1</th>\n",
              "      <td>2021-04-06 14:11:15-03:00</td>\n",
              "      <td>hello@email3.bing.com</td>\n",
              "      <td>andremarinhom17@gmail.com</td>\n",
              "      <td>=?UTF-8?Q?Tend=C3=AAncias_nas_not=C3=ADcias:_v...</td>\n",
              "      <td>Caixa_de_entrada</td>\n",
              "      <td>Terça</td>\n",
              "    </tr>\n",
              "    <tr>\n",
              "      <th>4</th>\n",
              "      <td>2021-04-04 06:15:08-03:00</td>\n",
              "      <td>notification@facebookmail.com</td>\n",
              "      <td>andremarinhom17@gmail.com</td>\n",
              "      <td>=?UTF-8?B?8J+OgiBNYXRoZXVzIEp1bmlv?=\\r\\n =?UTF...</td>\n",
              "      <td>Caixa_de_entrada</td>\n",
              "      <td>Domingo</td>\n",
              "    </tr>\n",
              "    <tr>\n",
              "      <th>5</th>\n",
              "      <td>2021-03-26 21:19:18-03:00</td>\n",
              "      <td>info@twitter.com</td>\n",
              "      <td>andremarinhom17@gmail.com</td>\n",
              "      <td>=?UTF-8?Q?Let=C3=ADcia_Alves_em_=F0=9F=8F=A1_c...</td>\n",
              "      <td>Caixa_de_entrada</td>\n",
              "      <td>Sexta</td>\n",
              "    </tr>\n",
              "    <tr>\n",
              "      <th>6</th>\n",
              "      <td>2021-04-16 10:13:48-03:00</td>\n",
              "      <td>robot@letterboxd.com</td>\n",
              "      <td>andremarinhom17@gmail.com</td>\n",
              "      <td>Letterboxd Rushes for humor</td>\n",
              "      <td>Caixa_de_entrada</td>\n",
              "      <td>Sexta</td>\n",
              "    </tr>\n",
              "    <tr>\n",
              "      <th>8</th>\n",
              "      <td>2021-03-31 06:38:46-03:00</td>\n",
              "      <td>notification@facebookmail.com</td>\n",
              "      <td>andremarinhom17@gmail.com</td>\n",
              "      <td>=?UTF-8?B?8J+OgiBHYWJyaWVsbGUgTnVu?=\\r\\n =?UTF...</td>\n",
              "      <td>Caixa_de_entrada</td>\n",
              "      <td>Quarta</td>\n",
              "    </tr>\n",
              "  </tbody>\n",
              "</table>\n",
              "</div>"
            ],
            "text/plain": [
              "                       date  ...  weekday\n",
              "1 2021-04-06 14:11:15-03:00  ...    Terça\n",
              "4 2021-04-04 06:15:08-03:00  ...  Domingo\n",
              "5 2021-03-26 21:19:18-03:00  ...    Sexta\n",
              "6 2021-04-16 10:13:48-03:00  ...    Sexta\n",
              "8 2021-03-31 06:38:46-03:00  ...   Quarta\n",
              "\n",
              "[5 rows x 6 columns]"
            ]
          },
          "metadata": {
            "tags": []
          },
          "execution_count": 28
        }
      ]
    },
    {
      "cell_type": "markdown",
      "metadata": {
        "id": "AmQ3lLEDCxcG"
      },
      "source": [
        "Agora que tenho todas as informações necessárias, posso usar a biblioteca `seaborn` para plotar um `countplot` e mostrar em qual dia da semana recebemo mais e-mails."
      ]
    },
    {
      "cell_type": "code",
      "metadata": {
        "colab": {
          "base_uri": "https://localhost:8080/",
          "height": 350
        },
        "id": "_6fMNSCHjK4X",
        "outputId": "d9433fc7-0290-4f0d-813b-f90d16aa9f5e"
      },
      "source": [
        "# plotando o countplot\n",
        "sns.countplot(df[\"weekday\"], order=[\"Segunda\", \"Terça\", \"Quarta\", \"Quinta\", \"Sexta\", \"Sábado\", \"Domingo\"])"
      ],
      "execution_count": 29,
      "outputs": [
        {
          "output_type": "stream",
          "text": [
            "/usr/local/lib/python3.7/dist-packages/seaborn/_decorators.py:43: FutureWarning: Pass the following variable as a keyword arg: x. From version 0.12, the only valid positional argument will be `data`, and passing other arguments without an explicit keyword will result in an error or misinterpretation.\n",
            "  FutureWarning\n"
          ],
          "name": "stderr"
        },
        {
          "output_type": "execute_result",
          "data": {
            "text/plain": [
              "<matplotlib.axes._subplots.AxesSubplot at 0x7f47cbdaa310>"
            ]
          },
          "metadata": {
            "tags": []
          },
          "execution_count": 29
        },
        {
          "output_type": "display_data",
          "data": {
            "image/png": "[encoded data removed]",
            "text/plain": [
              "<Figure size 432x288 with 1 Axes>"
            ]
          },
          "metadata": {
            "tags": [],
            "needs_background": "light"
          }
        }
      ]
    },
    {
      "cell_type": "markdown",
      "metadata": {
        "id": "aRSybhxIDBtG"
      },
      "source": [
        "A **Segunda-Feira** traz um volume maior de e-mails, um pouco menor do que os demais dias da semana. Este volume cai gradativamente ao longo da semana. Mas qual será o horário que mais recebo e-mails?\n",
        "\n",
        "Posso fazer um processo parecido com o que fiz de dias da semana para criar uma variável que me indica a hora em que o e-mail foi recebido.\n",
        "\n",
        "Assim, consigo fazer uma análise semelhante à que fiz sobre os dias."
      ]
    },
    {
      "cell_type": "code",
      "metadata": {
        "id": "I_uCXyJcjZ1D"
      },
      "source": [
        "# coletando as horas\n",
        "df[\"hora\"] = df[\"date\"].dt.hour"
      ],
      "execution_count": 30,
      "outputs": []
    },
    {
      "cell_type": "code",
      "metadata": {
        "colab": {
          "base_uri": "https://localhost:8080/",
          "height": 289
        },
        "id": "84HofnRCjz6J",
        "outputId": "e553bafa-df1a-4c6f-da23-fb4b032c470f"
      },
      "source": [
        "# verificando o resultado\n",
        "df.head()"
      ],
      "execution_count": 31,
      "outputs": [
        {
          "output_type": "execute_result",
          "data": {
            "text/html": [
              "<div>\n",
              "<style scoped>\n",
              "    .dataframe tbody tr th:only-of-type {\n",
              "        vertical-align: middle;\n",
              "    }\n",
              "\n",
              "    .dataframe tbody tr th {\n",
              "        vertical-align: top;\n",
              "    }\n",
              "\n",
              "    .dataframe thead th {\n",
              "        text-align: right;\n",
              "    }\n",
              "</style>\n",
              "<table border=\"1\" class=\"dataframe\">\n",
              "  <thead>\n",
              "    <tr style=\"text-align: right;\">\n",
              "      <th></th>\n",
              "      <th>date</th>\n",
              "      <th>from</th>\n",
              "      <th>to</th>\n",
              "      <th>subject</th>\n",
              "      <th>labels</th>\n",
              "      <th>weekday</th>\n",
              "      <th>hora</th>\n",
              "    </tr>\n",
              "  </thead>\n",
              "  <tbody>\n",
              "    <tr>\n",
              "      <th>1</th>\n",
              "      <td>2021-04-06 14:11:15-03:00</td>\n",
              "      <td>hello@email3.bing.com</td>\n",
              "      <td>andremarinhom17@gmail.com</td>\n",
              "      <td>=?UTF-8?Q?Tend=C3=AAncias_nas_not=C3=ADcias:_v...</td>\n",
              "      <td>Caixa_de_entrada</td>\n",
              "      <td>Terça</td>\n",
              "      <td>14</td>\n",
              "    </tr>\n",
              "    <tr>\n",
              "      <th>4</th>\n",
              "      <td>2021-04-04 06:15:08-03:00</td>\n",
              "      <td>notification@facebookmail.com</td>\n",
              "      <td>andremarinhom17@gmail.com</td>\n",
              "      <td>=?UTF-8?B?8J+OgiBNYXRoZXVzIEp1bmlv?=\\r\\n =?UTF...</td>\n",
              "      <td>Caixa_de_entrada</td>\n",
              "      <td>Domingo</td>\n",
              "      <td>6</td>\n",
              "    </tr>\n",
              "    <tr>\n",
              "      <th>5</th>\n",
              "      <td>2021-03-26 21:19:18-03:00</td>\n",
              "      <td>info@twitter.com</td>\n",
              "      <td>andremarinhom17@gmail.com</td>\n",
              "      <td>=?UTF-8?Q?Let=C3=ADcia_Alves_em_=F0=9F=8F=A1_c...</td>\n",
              "      <td>Caixa_de_entrada</td>\n",
              "      <td>Sexta</td>\n",
              "      <td>21</td>\n",
              "    </tr>\n",
              "    <tr>\n",
              "      <th>6</th>\n",
              "      <td>2021-04-16 10:13:48-03:00</td>\n",
              "      <td>robot@letterboxd.com</td>\n",
              "      <td>andremarinhom17@gmail.com</td>\n",
              "      <td>Letterboxd Rushes for humor</td>\n",
              "      <td>Caixa_de_entrada</td>\n",
              "      <td>Sexta</td>\n",
              "      <td>10</td>\n",
              "    </tr>\n",
              "    <tr>\n",
              "      <th>8</th>\n",
              "      <td>2021-03-31 06:38:46-03:00</td>\n",
              "      <td>notification@facebookmail.com</td>\n",
              "      <td>andremarinhom17@gmail.com</td>\n",
              "      <td>=?UTF-8?B?8J+OgiBHYWJyaWVsbGUgTnVu?=\\r\\n =?UTF...</td>\n",
              "      <td>Caixa_de_entrada</td>\n",
              "      <td>Quarta</td>\n",
              "      <td>6</td>\n",
              "    </tr>\n",
              "  </tbody>\n",
              "</table>\n",
              "</div>"
            ],
            "text/plain": [
              "                       date                           from  ...  weekday hora\n",
              "1 2021-04-06 14:11:15-03:00          hello@email3.bing.com  ...    Terça   14\n",
              "4 2021-04-04 06:15:08-03:00  notification@facebookmail.com  ...  Domingo    6\n",
              "5 2021-03-26 21:19:18-03:00               info@twitter.com  ...    Sexta   21\n",
              "6 2021-04-16 10:13:48-03:00           robot@letterboxd.com  ...    Sexta   10\n",
              "8 2021-03-31 06:38:46-03:00  notification@facebookmail.com  ...   Quarta    6\n",
              "\n",
              "[5 rows x 7 columns]"
            ]
          },
          "metadata": {
            "tags": []
          },
          "execution_count": 31
        }
      ]
    },
    {
      "cell_type": "markdown",
      "metadata": {
        "id": "wM8HJ9HEDr9w"
      },
      "source": [
        "Pronto! Agora basta plotar um countplot, como feito anteriormente."
      ]
    },
    {
      "cell_type": "code",
      "metadata": {
        "colab": {
          "base_uri": "https://localhost:8080/",
          "height": 350
        },
        "id": "ozxt9zb-j05k",
        "outputId": "172de896-f715-4d30-9eac-f6696357628c"
      },
      "source": [
        "sns.countplot(df[\"hora\"])"
      ],
      "execution_count": 34,
      "outputs": [
        {
          "output_type": "stream",
          "text": [
            "/usr/local/lib/python3.7/dist-packages/seaborn/_decorators.py:43: FutureWarning: Pass the following variable as a keyword arg: x. From version 0.12, the only valid positional argument will be `data`, and passing other arguments without an explicit keyword will result in an error or misinterpretation.\n",
            "  FutureWarning\n"
          ],
          "name": "stderr"
        },
        {
          "output_type": "execute_result",
          "data": {
            "text/plain": [
              "<matplotlib.axes._subplots.AxesSubplot at 0x7f47caa927d0>"
            ]
          },
          "metadata": {
            "tags": []
          },
          "execution_count": 34
        },
        {
          "output_type": "display_data",
          "data": {
            "image/png": "[encoded data removed]",
            "text/plain": [
              "<Figure size 432x288 with 1 Axes>"
            ]
          },
          "metadata": {
            "tags": [],
            "needs_background": "light"
          }
        }
      ]
    },
    {
      "cell_type": "markdown",
      "metadata": {
        "id": "WGAQoWDLP7WY"
      },
      "source": [
        "De acordo com o gráfico acima, observa-se que o horário que mais recebo é 7 horas da manhã. O intervalo começa às 6 da manhã e se mantem estável até às 15, quando começa a cair. "
      ]
    },
    {
      "cell_type": "code",
      "metadata": {
        "id": "y6C09gMjkKgt"
      },
      "source": [
        "#Exportando para excel\n",
        "\n",
        "df['date'] = df['date'].apply(lambda x: pd.to_datetime(x).date())\n"
      ],
      "execution_count": null,
      "outputs": []
    },
    {
      "cell_type": "code",
      "metadata": {
        "id": "QzxtvsvjlE0t"
      },
      "source": [
        "df.to_excel(\"meu_gmail.xlsx\", index=False)"
      ],
      "execution_count": null,
      "outputs": []
    },
    {
      "cell_type": "markdown",
      "metadata": {
        "id": "BooMyS9dS2HG"
      },
      "source": [
        "## Conclusões e Desafios Futuros"
      ]
    },
    {
      "cell_type": "markdown",
      "metadata": {
        "id": "efW5G5WWS96G"
      },
      "source": [
        "Este projeto se fez de extrema importância para analisar os dados do Gmail e obter informações relevantes sobre o comportamento deste. Fica como desafios futuros analisar comportamentos do email com diferentes amostras de diferentes semanas para extrair informações relevantes.\n",
        "\n",
        "Este projeto pode ser de grande valia para trabalhos que envolvam suporte de empresas, pois assim é interessante traçar padrões e detectar o melhor horário para envio do email."
      ]
    }
  ]
}